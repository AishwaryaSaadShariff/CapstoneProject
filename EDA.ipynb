{
 "cells": [
  {
   "cell_type": "code",
   "execution_count": 0,
   "metadata": {
    "colab": {},
    "colab_type": "code",
    "id": "r1gAFn6k-N_7"
   },
   "outputs": [],
   "source": [
    "%reload_ext autoreload\n",
    "%autoreload 2\n",
    "%matplotlib inline\n"
   ]
  },
  {
   "cell_type": "code",
   "execution_count": 0,
   "metadata": {
    "colab": {
     "base_uri": "https://localhost:8080/",
     "height": 918
    },
    "colab_type": "code",
    "id": "KyNhmA8K-QIC",
    "outputId": "2bd7eeea-cac7-420a-dd87-17206d38cd45"
   },
   "outputs": [
    {
     "name": "stdout",
     "output_type": "stream",
     "text": [
      "Cloning into 'fastai2'...\n",
      "remote: Enumerating objects: 16, done.\u001b[K\n",
      "remote: Counting objects: 100% (16/16), done.\u001b[K\n",
      "remote: Compressing objects: 100% (14/14), done.\u001b[K\n",
      "remote: Total 7808 (delta 4), reused 5 (delta 2), pack-reused 7792\u001b[K\n",
      "Receiving objects: 100% (7808/7808), 434.62 MiB | 37.66 MiB/s, done.\n",
      "Resolving deltas: 100% (6265/6265), done.\n",
      "/bin/bash: conda: command not found\n",
      "/bin/bash: activate: No such file or directory\n",
      "Collecting fastai2\n",
      "\u001b[?25l  Downloading https://files.pythonhosted.org/packages/bd/2b/9e0f6d3d928105dec034727ed723c33340f71a77ca253b67bbec99eacd3f/fastai2-0.0.16-py3-none-any.whl (184kB)\n",
      "\u001b[K     |████████████████████████████████| 184kB 4.9MB/s \n",
      "\u001b[?25hRequirement already satisfied: pandas in /usr/local/lib/python3.6/dist-packages (from fastai2) (1.0.3)\n",
      "Collecting fastcore\n",
      "  Downloading https://files.pythonhosted.org/packages/3b/b5/aed836ce5b16ea1088a5d1a41d400bc051abf90bbef58bb74d8fd01a76af/fastcore-0.1.16-py3-none-any.whl\n",
      "Requirement already satisfied: matplotlib in /usr/local/lib/python3.6/dist-packages (from fastai2) (3.2.1)\n",
      "Requirement already satisfied: scipy in /usr/local/lib/python3.6/dist-packages (from fastai2) (1.4.1)\n",
      "Requirement already satisfied: torchvision>=0.5 in /usr/local/lib/python3.6/dist-packages (from fastai2) (0.5.0)\n",
      "Requirement already satisfied: requests in /usr/local/lib/python3.6/dist-packages (from fastai2) (2.21.0)\n",
      "Requirement already satisfied: pyyaml in /usr/local/lib/python3.6/dist-packages (from fastai2) (3.13)\n",
      "Requirement already satisfied: pillow in /usr/local/lib/python3.6/dist-packages (from fastai2) (7.0.0)\n",
      "Requirement already satisfied: scikit-learn in /usr/local/lib/python3.6/dist-packages (from fastai2) (0.22.2.post1)\n",
      "Requirement already satisfied: torch>=1.3.0 in /usr/local/lib/python3.6/dist-packages (from fastai2) (1.4.0)\n",
      "Requirement already satisfied: fastprogress>=0.1.22 in /usr/local/lib/python3.6/dist-packages (from fastai2) (0.2.3)\n",
      "Requirement already satisfied: spacy in /usr/local/lib/python3.6/dist-packages (from fastai2) (2.2.4)\n",
      "Requirement already satisfied: python-dateutil>=2.6.1 in /usr/local/lib/python3.6/dist-packages (from pandas->fastai2) (2.8.1)\n",
      "Requirement already satisfied: pytz>=2017.2 in /usr/local/lib/python3.6/dist-packages (from pandas->fastai2) (2018.9)\n",
      "Requirement already satisfied: numpy>=1.13.3 in /usr/local/lib/python3.6/dist-packages (from pandas->fastai2) (1.18.2)\n",
      "Requirement already satisfied: dataclasses>='0.7'; python_version < \"3.7\" in /usr/local/lib/python3.6/dist-packages (from fastcore->fastai2) (0.7)\n",
      "Requirement already satisfied: cycler>=0.10 in /usr/local/lib/python3.6/dist-packages (from matplotlib->fastai2) (0.10.0)\n",
      "Requirement already satisfied: kiwisolver>=1.0.1 in /usr/local/lib/python3.6/dist-packages (from matplotlib->fastai2) (1.2.0)\n",
      "Requirement already satisfied: pyparsing!=2.0.4,!=2.1.2,!=2.1.6,>=2.0.1 in /usr/local/lib/python3.6/dist-packages (from matplotlib->fastai2) (2.4.7)\n",
      "Requirement already satisfied: six in /usr/local/lib/python3.6/dist-packages (from torchvision>=0.5->fastai2) (1.12.0)\n",
      "Requirement already satisfied: certifi>=2017.4.17 in /usr/local/lib/python3.6/dist-packages (from requests->fastai2) (2020.4.5.1)\n",
      "Requirement already satisfied: chardet<3.1.0,>=3.0.2 in /usr/local/lib/python3.6/dist-packages (from requests->fastai2) (3.0.4)\n",
      "Requirement already satisfied: idna<2.9,>=2.5 in /usr/local/lib/python3.6/dist-packages (from requests->fastai2) (2.8)\n",
      "Requirement already satisfied: urllib3<1.25,>=1.21.1 in /usr/local/lib/python3.6/dist-packages (from requests->fastai2) (1.24.3)\n",
      "Requirement already satisfied: joblib>=0.11 in /usr/local/lib/python3.6/dist-packages (from scikit-learn->fastai2) (0.14.1)\n",
      "Requirement already satisfied: thinc==7.4.0 in /usr/local/lib/python3.6/dist-packages (from spacy->fastai2) (7.4.0)\n",
      "Requirement already satisfied: srsly<1.1.0,>=1.0.2 in /usr/local/lib/python3.6/dist-packages (from spacy->fastai2) (1.0.2)\n",
      "Requirement already satisfied: wasabi<1.1.0,>=0.4.0 in /usr/local/lib/python3.6/dist-packages (from spacy->fastai2) (0.6.0)\n",
      "Requirement already satisfied: preshed<3.1.0,>=3.0.2 in /usr/local/lib/python3.6/dist-packages (from spacy->fastai2) (3.0.2)\n",
      "Requirement already satisfied: cymem<2.1.0,>=2.0.2 in /usr/local/lib/python3.6/dist-packages (from spacy->fastai2) (2.0.3)\n",
      "Requirement already satisfied: blis<0.5.0,>=0.4.0 in /usr/local/lib/python3.6/dist-packages (from spacy->fastai2) (0.4.1)\n",
      "Requirement already satisfied: murmurhash<1.1.0,>=0.28.0 in /usr/local/lib/python3.6/dist-packages (from spacy->fastai2) (1.0.2)\n",
      "Requirement already satisfied: setuptools in /usr/local/lib/python3.6/dist-packages (from spacy->fastai2) (46.1.3)\n",
      "Requirement already satisfied: catalogue<1.1.0,>=0.0.7 in /usr/local/lib/python3.6/dist-packages (from spacy->fastai2) (1.0.0)\n",
      "Requirement already satisfied: plac<1.2.0,>=0.9.6 in /usr/local/lib/python3.6/dist-packages (from spacy->fastai2) (1.1.3)\n",
      "Requirement already satisfied: tqdm<5.0.0,>=4.38.0 in /usr/local/lib/python3.6/dist-packages (from spacy->fastai2) (4.38.0)\n",
      "Requirement already satisfied: importlib-metadata>=0.20; python_version < \"3.8\" in /usr/local/lib/python3.6/dist-packages (from catalogue<1.1.0,>=0.0.7->spacy->fastai2) (1.6.0)\n",
      "Requirement already satisfied: zipp>=0.5 in /usr/local/lib/python3.6/dist-packages (from importlib-metadata>=0.20; python_version < \"3.8\"->catalogue<1.1.0,>=0.0.7->spacy->fastai2) (3.1.0)\n",
      "Installing collected packages: fastcore, fastai2\n",
      "Successfully installed fastai2-0.0.16 fastcore-0.1.16\n"
     ]
    }
   ],
   "source": [
    "! git clone https://github.com/fastai/fastai2\n",
    "! cd fastai2\n",
    "! conda env create -f environment.yml\n",
    "! source activate fastai2\n",
    "! pip install fastai2\n"
   ]
  },
  {
   "cell_type": "code",
   "execution_count": 0,
   "metadata": {
    "colab": {
     "base_uri": "https://localhost:8080/",
     "height": 68
    },
    "colab_type": "code",
    "id": "aLPZCZEr-g1V",
    "outputId": "3e833234-26ac-4d34-a3e3-aba994666758"
   },
   "outputs": [
    {
     "name": "stdout",
     "output_type": "stream",
     "text": [
      "Requirement already satisfied: fastcore in /usr/local/lib/python3.6/dist-packages (0.1.16)\n",
      "Requirement already satisfied: dataclasses>='0.7'; python_version < \"3.7\" in /usr/local/lib/python3.6/dist-packages (from fastcore) (0.7)\n",
      "Requirement already satisfied: numpy in /usr/local/lib/python3.6/dist-packages (from fastcore) (1.18.2)\n"
     ]
    }
   ],
   "source": [
    "!pip install fastcore\n"
   ]
  },
  {
   "cell_type": "code",
   "execution_count": 0,
   "metadata": {
    "colab": {
     "base_uri": "https://localhost:8080/",
     "height": 493
    },
    "colab_type": "code",
    "id": "5CWZUA_6-vq5",
    "outputId": "59d220b7-2888-4a54-8911-7947792708e8"
   },
   "outputs": [
    {
     "name": "stdout",
     "output_type": "stream",
     "text": [
      "Collecting nbdev\n",
      "\u001b[?25l  Downloading https://files.pythonhosted.org/packages/a0/c2/2631b32810211b6be5b17aff8db7135a8f29ff2a09a397cd9efbba490d48/nbdev-0.2.17-py3-none-any.whl (44kB)\n",
      "\r",
      "\u001b[K     |███████▎                        | 10kB 29.7MB/s eta 0:00:01\r",
      "\u001b[K     |██████████████▋                 | 20kB 3.1MB/s eta 0:00:01\r",
      "\u001b[K     |█████████████████████▉          | 30kB 3.9MB/s eta 0:00:01\r",
      "\u001b[K     |█████████████████████████████▏  | 40kB 3.0MB/s eta 0:00:01\r",
      "\u001b[K     |████████████████████████████████| 51kB 2.7MB/s \n",
      "\u001b[?25hRequirement already satisfied: nbformat>=4.4.0 in /usr/local/lib/python3.6/dist-packages (from nbdev) (5.0.5)\n",
      "Requirement already satisfied: packaging in /usr/local/lib/python3.6/dist-packages (from nbdev) (20.3)\n",
      "Collecting fastscript\n",
      "  Downloading https://files.pythonhosted.org/packages/55/0e/ecdc0213646bc82986884121109a38b50bbc2cd2c491bbbfdc7ae39228e3/fastscript-0.1.4-py3-none-any.whl\n",
      "Requirement already satisfied: nbconvert>=5.6.1 in /usr/local/lib/python3.6/dist-packages (from nbdev) (5.6.1)\n",
      "Requirement already satisfied: pyyaml in /usr/local/lib/python3.6/dist-packages (from nbdev) (3.13)\n",
      "Requirement already satisfied: jsonschema!=2.5.0,>=2.4 in /usr/local/lib/python3.6/dist-packages (from nbformat>=4.4.0->nbdev) (2.6.0)\n",
      "Requirement already satisfied: ipython-genutils in /usr/local/lib/python3.6/dist-packages (from nbformat>=4.4.0->nbdev) (0.2.0)\n",
      "Requirement already satisfied: traitlets>=4.1 in /usr/local/lib/python3.6/dist-packages (from nbformat>=4.4.0->nbdev) (4.3.3)\n",
      "Requirement already satisfied: jupyter-core in /usr/local/lib/python3.6/dist-packages (from nbformat>=4.4.0->nbdev) (4.6.3)\n",
      "Requirement already satisfied: pyparsing>=2.0.2 in /usr/local/lib/python3.6/dist-packages (from packaging->nbdev) (2.4.7)\n",
      "Requirement already satisfied: six in /usr/local/lib/python3.6/dist-packages (from packaging->nbdev) (1.12.0)\n",
      "Requirement already satisfied: jinja2>=2.4 in /usr/local/lib/python3.6/dist-packages (from nbconvert>=5.6.1->nbdev) (2.11.1)\n",
      "Requirement already satisfied: mistune<2,>=0.8.1 in /usr/local/lib/python3.6/dist-packages (from nbconvert>=5.6.1->nbdev) (0.8.4)\n",
      "Requirement already satisfied: pygments in /usr/local/lib/python3.6/dist-packages (from nbconvert>=5.6.1->nbdev) (2.1.3)\n",
      "Requirement already satisfied: entrypoints>=0.2.2 in /usr/local/lib/python3.6/dist-packages (from nbconvert>=5.6.1->nbdev) (0.3)\n",
      "Requirement already satisfied: pandocfilters>=1.4.1 in /usr/local/lib/python3.6/dist-packages (from nbconvert>=5.6.1->nbdev) (1.4.2)\n",
      "Requirement already satisfied: defusedxml in /usr/local/lib/python3.6/dist-packages (from nbconvert>=5.6.1->nbdev) (0.6.0)\n",
      "Requirement already satisfied: bleach in /usr/local/lib/python3.6/dist-packages (from nbconvert>=5.6.1->nbdev) (3.1.4)\n",
      "Requirement already satisfied: testpath in /usr/local/lib/python3.6/dist-packages (from nbconvert>=5.6.1->nbdev) (0.4.4)\n",
      "Requirement already satisfied: decorator in /usr/local/lib/python3.6/dist-packages (from traitlets>=4.1->nbformat>=4.4.0->nbdev) (4.4.2)\n",
      "Requirement already satisfied: MarkupSafe>=0.23 in /usr/local/lib/python3.6/dist-packages (from jinja2>=2.4->nbconvert>=5.6.1->nbdev) (1.1.1)\n",
      "Requirement already satisfied: webencodings in /usr/local/lib/python3.6/dist-packages (from bleach->nbconvert>=5.6.1->nbdev) (0.5.1)\n",
      "Installing collected packages: fastscript, nbdev\n",
      "Successfully installed fastscript-0.1.4 nbdev-0.2.17\n"
     ]
    }
   ],
   "source": [
    "!pip install nbdev\n"
   ]
  },
  {
   "cell_type": "code",
   "execution_count": 0,
   "metadata": {
    "colab": {
     "base_uri": "https://localhost:8080/",
     "height": 425
    },
    "colab_type": "code",
    "id": "y3_1Fsuc-82B",
    "outputId": "95ad69e3-c987-40a4-ed63-caeddb26694f"
   },
   "outputs": [
    {
     "name": "stdout",
     "output_type": "stream",
     "text": [
      "Collecting pydicom\n",
      "\u001b[?25l  Downloading https://files.pythonhosted.org/packages/53/e6/4cae2b4b2fdbea5e2ddd188361139606d8f10f710ba1abecd6600da099c3/pydicom-1.4.2-py2.py3-none-any.whl (35.3MB)\n",
      "\u001b[K     |████████████████████████████████| 35.3MB 89kB/s \n",
      "\u001b[?25hCollecting kornia\n",
      "\u001b[?25l  Downloading https://files.pythonhosted.org/packages/bd/b8/c137c3d0cc52a856d3f80ccc37281cc558df8c0b6b5f54d4cd78f4c3fb99/kornia-0.2.0-py2.py3-none-any.whl (142kB)\n",
      "\u001b[K     |████████████████████████████████| 143kB 51.9MB/s \n",
      "\u001b[?25hRequirement already satisfied: opencv-python in /usr/local/lib/python3.6/dist-packages (4.1.2.30)\n",
      "Requirement already satisfied: scikit-image in /usr/local/lib/python3.6/dist-packages (0.16.2)\n",
      "Requirement already satisfied: torch>=1.0.0 in /usr/local/lib/python3.6/dist-packages (from kornia) (1.4.0)\n",
      "Requirement already satisfied: pillow>=6.2.0 in /usr/local/lib/python3.6/dist-packages (from kornia) (7.0.0)\n",
      "Requirement already satisfied: numpy>=1.11.3 in /usr/local/lib/python3.6/dist-packages (from opencv-python) (1.18.2)\n",
      "Requirement already satisfied: PyWavelets>=0.4.0 in /usr/local/lib/python3.6/dist-packages (from scikit-image) (1.1.1)\n",
      "Requirement already satisfied: imageio>=2.3.0 in /usr/local/lib/python3.6/dist-packages (from scikit-image) (2.4.1)\n",
      "Requirement already satisfied: matplotlib!=3.0.0,>=2.0.0 in /usr/local/lib/python3.6/dist-packages (from scikit-image) (3.2.1)\n",
      "Requirement already satisfied: networkx>=2.0 in /usr/local/lib/python3.6/dist-packages (from scikit-image) (2.4)\n",
      "Requirement already satisfied: scipy>=0.19.0 in /usr/local/lib/python3.6/dist-packages (from scikit-image) (1.4.1)\n",
      "Requirement already satisfied: pyparsing!=2.0.4,!=2.1.2,!=2.1.6,>=2.0.1 in /usr/local/lib/python3.6/dist-packages (from matplotlib!=3.0.0,>=2.0.0->scikit-image) (2.4.7)\n",
      "Requirement already satisfied: python-dateutil>=2.1 in /usr/local/lib/python3.6/dist-packages (from matplotlib!=3.0.0,>=2.0.0->scikit-image) (2.8.1)\n",
      "Requirement already satisfied: cycler>=0.10 in /usr/local/lib/python3.6/dist-packages (from matplotlib!=3.0.0,>=2.0.0->scikit-image) (0.10.0)\n",
      "Requirement already satisfied: kiwisolver>=1.0.1 in /usr/local/lib/python3.6/dist-packages (from matplotlib!=3.0.0,>=2.0.0->scikit-image) (1.2.0)\n",
      "Requirement already satisfied: decorator>=4.3.0 in /usr/local/lib/python3.6/dist-packages (from networkx>=2.0->scikit-image) (4.4.2)\n",
      "Requirement already satisfied: six>=1.5 in /usr/local/lib/python3.6/dist-packages (from python-dateutil>=2.1->matplotlib!=3.0.0,>=2.0.0->scikit-image) (1.12.0)\n",
      "Installing collected packages: pydicom, kornia\n",
      "Successfully installed kornia-0.2.0 pydicom-1.4.2\n"
     ]
    }
   ],
   "source": [
    "! pip install pydicom kornia opencv-python scikit-image"
   ]
  },
  {
   "cell_type": "code",
   "execution_count": 0,
   "metadata": {
    "colab": {},
    "colab_type": "code",
    "id": "eIcejVOU_Dbt"
   },
   "outputs": [],
   "source": [
    "!pip install torch torchvision feather-format kornia pyarrow --upgrade   > /dev/null"
   ]
  },
  {
   "cell_type": "code",
   "execution_count": 0,
   "metadata": {
    "colab": {
     "base_uri": "https://localhost:8080/",
     "height": 562
    },
    "colab_type": "code",
    "id": "Iw4KFxmRXtXG",
    "outputId": "bfe95656-9e14-43b2-dfbf-921ff269194e"
   },
   "outputs": [
    {
     "name": "stderr",
     "output_type": "stream",
     "text": [
      "[autoreload of pyarrow failed: Traceback (most recent call last):\n",
      "  File \"/usr/local/lib/python3.6/dist-packages/IPython/extensions/autoreload.py\", line 247, in check\n",
      "    superreload(m, reload, self.old_objects)\n",
      "AttributeError: module 'pyarrow' has no attribute 'compat'\n",
      "]\n",
      "[autoreload of pyarrow.types failed: Traceback (most recent call last):\n",
      "  File \"/usr/local/lib/python3.6/dist-packages/IPython/extensions/autoreload.py\", line 247, in check\n",
      "    superreload(m, reload, self.old_objects)\n",
      "AttributeError: module 'pyarrow.lib' has no attribute 'Type_DURATION'\n",
      "]\n"
     ]
    },
    {
     "name": "stdout",
     "output_type": "stream",
     "text": [
      "Uninstalling pyarrow-0.16.0:\n",
      "  Successfully uninstalled pyarrow-0.16.0\n",
      "Collecting pip\n",
      "\u001b[?25l  Downloading https://files.pythonhosted.org/packages/54/0c/d01aa759fdc501a58f431eb594a17495f15b88da142ce14b5845662c13f3/pip-20.0.2-py2.py3-none-any.whl (1.4MB)\n",
      "\u001b[K     |████████████████████████████████| 1.4MB 4.6MB/s \n",
      "\u001b[?25hInstalling collected packages: pip\n",
      "  Found existing installation: pip 19.3.1\n",
      "    Uninstalling pip-19.3.1:\n",
      "      Successfully uninstalled pip-19.3.1\n",
      "Successfully installed pip-20.0.2\n",
      "Collecting pyarrow\n",
      "  Using cached pyarrow-0.16.0-cp36-cp36m-manylinux2014_x86_64.whl (63.1 MB)\n",
      "Requirement already satisfied, skipping upgrade: numpy>=1.14 in /usr/local/lib/python3.6/dist-packages (from pyarrow) (1.18.2)\n",
      "Requirement already satisfied, skipping upgrade: six>=1.0.0 in /usr/local/lib/python3.6/dist-packages (from pyarrow) (1.12.0)\n",
      "Installing collected packages: pyarrow\n",
      "Successfully installed pyarrow-0.16.0\n"
     ]
    },
    {
     "data": {
      "application/vnd.colab-display-data+json": {
       "pip_warning": {
        "packages": [
         "pyarrow"
        ]
       }
      }
     },
     "metadata": {
      "tags": []
     },
     "output_type": "display_data"
    },
    {
     "name": "stdout",
     "output_type": "stream",
     "text": [
      "/bin/bash: pyarrow: command not found\n"
     ]
    }
   ],
   "source": [
    "!pip uninstall -y pyarrow\n",
    "!pip install --upgrade pip\n",
    "!pip install --upgrade pyarrow\n",
    "!pyarrow -v"
   ]
  },
  {
   "cell_type": "code",
   "execution_count": 0,
   "metadata": {
    "colab": {},
    "colab_type": "code",
    "id": "uLxiiqrk_L1z"
   },
   "outputs": [],
   "source": [
    "\n",
    "from fastai2.basics import *\n",
    "from fastai2.medical.imaging  import *"
   ]
  },
  {
   "cell_type": "code",
   "execution_count": 0,
   "metadata": {
    "colab": {},
    "colab_type": "code",
    "id": "EpCUPgtm_7sP"
   },
   "outputs": [],
   "source": [
    "from fastai2.vision import *"
   ]
  },
  {
   "cell_type": "code",
   "execution_count": 0,
   "metadata": {
    "colab": {},
    "colab_type": "code",
    "id": "Is_Q7MG9ZMyH"
   },
   "outputs": [],
   "source": [
    "! mkdir -p ~/.kaggle/\n",
    "! mv kaggle.json ~/.kaggle/"
   ]
  },
  {
   "cell_type": "code",
   "execution_count": 0,
   "metadata": {
    "colab": {
     "base_uri": "https://localhost:8080/",
     "height": 459
    },
    "colab_type": "code",
    "id": "bUL4Tm5qYkb9",
    "outputId": "49365fba-419d-4c8c-98b2-333cb6c8f497"
   },
   "outputs": [
    {
     "name": "stdout",
     "output_type": "stream",
     "text": [
      "Found existing installation: kaggle 1.5.6\n",
      "Uninstalling kaggle-1.5.6:\n",
      "  Successfully uninstalled kaggle-1.5.6\n",
      "Requirement already up-to-date: pip in /usr/local/lib/python3.6/dist-packages (20.0.2)\n",
      "Collecting kaggle\n",
      "  Downloading kaggle-1.5.6.tar.gz (58 kB)\n",
      "\u001b[K     |████████████████████████████████| 58 kB 2.8 MB/s \n",
      "\u001b[?25hRequirement already satisfied, skipping upgrade: urllib3<1.25,>=1.21.1 in /usr/local/lib/python3.6/dist-packages (from kaggle) (1.24.3)\n",
      "Requirement already satisfied, skipping upgrade: six>=1.10 in /usr/local/lib/python3.6/dist-packages (from kaggle) (1.12.0)\n",
      "Requirement already satisfied, skipping upgrade: certifi in /usr/local/lib/python3.6/dist-packages (from kaggle) (2020.4.5.1)\n",
      "Requirement already satisfied, skipping upgrade: python-dateutil in /usr/local/lib/python3.6/dist-packages (from kaggle) (2.8.1)\n",
      "Requirement already satisfied, skipping upgrade: requests in /usr/local/lib/python3.6/dist-packages (from kaggle) (2.21.0)\n",
      "Requirement already satisfied, skipping upgrade: tqdm in /usr/local/lib/python3.6/dist-packages (from kaggle) (4.38.0)\n",
      "Requirement already satisfied, skipping upgrade: python-slugify in /usr/local/lib/python3.6/dist-packages (from kaggle) (4.0.0)\n",
      "Requirement already satisfied, skipping upgrade: chardet<3.1.0,>=3.0.2 in /usr/local/lib/python3.6/dist-packages (from requests->kaggle) (3.0.4)\n",
      "Requirement already satisfied, skipping upgrade: idna<2.9,>=2.5 in /usr/local/lib/python3.6/dist-packages (from requests->kaggle) (2.8)\n",
      "Requirement already satisfied, skipping upgrade: text-unidecode>=1.3 in /usr/local/lib/python3.6/dist-packages (from python-slugify->kaggle) (1.3)\n",
      "Building wheels for collected packages: kaggle\n",
      "  Building wheel for kaggle (setup.py) ... \u001b[?25l\u001b[?25hdone\n",
      "  Created wheel for kaggle: filename=kaggle-1.5.6-py3-none-any.whl size=72859 sha256=312065eeaa0f1fb029e47875696352cdffc2f1db33a6719fe84404ff8d6f6ecb\n",
      "  Stored in directory: /root/.cache/pip/wheels/01/3e/ff/77407ebac3ef71a79b9166a8382aecf88415a0bcbe3c095a01\n",
      "Successfully built kaggle\n",
      "Installing collected packages: kaggle\n",
      "Successfully installed kaggle-1.5.6\n",
      "Warning: Your Kaggle API key is readable by other users on this system! To fix this, you can run 'chmod 600 /root/.kaggle/kaggle.json'\n",
      "Kaggle API 1.5.6\n"
     ]
    }
   ],
   "source": [
    "!pip uninstall -y kaggle\n",
    "!pip install --upgrade pip\n",
    "!pip install --upgrade kaggle\n",
    "!kaggle -v"
   ]
  },
  {
   "cell_type": "code",
   "execution_count": 0,
   "metadata": {
    "colab": {},
    "colab_type": "code",
    "id": "ONqBBTlzaWuN"
   },
   "outputs": [],
   "source": [
    "! chmod 600 /root/.kaggle/kaggle.json"
   ]
  },
  {
   "cell_type": "code",
   "execution_count": 0,
   "metadata": {
    "colab": {},
    "colab_type": "code",
    "id": "SbYAiYPGakj5"
   },
   "outputs": [],
   "source": [
    "path = Path('../input/rsna')"
   ]
  },
  {
   "cell_type": "code",
   "execution_count": 0,
   "metadata": {
    "colab": {
     "base_uri": "https://localhost:8080/",
     "height": 68
    },
    "colab_type": "code",
    "id": "ouWgnct4csXK",
    "outputId": "9663e554-8047-42e1-9830-9f397deb4136"
   },
   "outputs": [
    {
     "name": "stdout",
     "output_type": "stream",
     "text": [
      "Downloading rsna-pneumonia-detection-challenge.zip to ../input/rsna\n",
      "100% 3.66G/3.66G [01:08<00:00, 17.1MB/s]\n",
      "100% 3.66G/3.66G [01:08<00:00, 57.2MB/s]\n"
     ]
    }
   ],
   "source": [
    "! kaggle competitions download -c rsna-pneumonia-detection-challenge -p {path}\n"
   ]
  },
  {
   "cell_type": "code",
   "execution_count": 0,
   "metadata": {
    "colab": {
     "base_uri": "https://localhost:8080/",
     "height": 34
    },
    "colab_type": "code",
    "id": "ksqseLMneCpE",
    "outputId": "6b97ab34-4ef9-49b4-9749-d076417d6680"
   },
   "outputs": [
    {
     "data": {
      "text/plain": [
       "(#1) [Path('../input/rsna/rsna-pneumonia-detection-challenge.zip')]"
      ]
     },
     "execution_count": 9,
     "metadata": {
      "tags": []
     },
     "output_type": "execute_result"
    }
   ],
   "source": [
    "path.ls()"
   ]
  },
  {
   "cell_type": "code",
   "execution_count": 0,
   "metadata": {
    "colab": {},
    "colab_type": "code",
    "id": "MMDXg_c1daX0"
   },
   "outputs": [],
   "source": [
    "# !unzip \\*.zip\n",
    "! unzip -q -n {path}/rsna-pneumonia-detection-challenge.zip -d {path}\n"
   ]
  },
  {
   "cell_type": "code",
   "execution_count": 0,
   "metadata": {
    "colab": {
     "base_uri": "https://localhost:8080/",
     "height": 54
    },
    "colab_type": "code",
    "id": "vqj3KBrafOTy",
    "outputId": "f8b4e72e-d24d-4c66-c1db-6d959d88686e"
   },
   "outputs": [
    {
     "data": {
      "text/plain": [
       "(#7) [Path('../input/rsna/stage_2_test_images'),Path('../input/rsna/stage_2_train_labels.csv'),Path('../input/rsna/stage_2_train_images'),Path('../input/rsna/GCP Credits Request Link - RSNA.txt'),Path('../input/rsna/rsna-pneumonia-detection-challenge.zip'),Path('../input/rsna/stage_2_detailed_class_info.csv'),Path('../input/rsna/stage_2_sample_submission.csv')]"
      ]
     },
     "execution_count": 11,
     "metadata": {
      "tags": []
     },
     "output_type": "execute_result"
    }
   ],
   "source": [
    "path.ls()"
   ]
  },
  {
   "cell_type": "code",
   "execution_count": 0,
   "metadata": {
    "colab": {},
    "colab_type": "code",
    "id": "68NLlgiCAVyh"
   },
   "outputs": [],
   "source": [
    "# Setting the file path\n",
    "# path = Path('../Project - Final')\n",
    "path_trn = path/'stage_2_train_images'\n",
    "path_tst = path/'stage_2_test_images'"
   ]
  },
  {
   "cell_type": "code",
   "execution_count": 0,
   "metadata": {
    "colab": {
     "base_uri": "https://localhost:8080/",
     "height": 54
    },
    "colab_type": "code",
    "id": "gTj2ekakRubk",
    "outputId": "edbae3e2-d55c-4ba4-bc1b-140c763a1a1e"
   },
   "outputs": [
    {
     "data": {
      "text/plain": [
       "(#5) ['cb30c3d6-cb5c-4d23-ad41-0340c50b30f5.dcm','d0ebe778-257e-46e9-be12-0274a344a274.dcm','a155c5e3-7c43-4971-9acc-aa16fb923cfa.dcm','6f0aa949-7f96-4fad-a852-4224a159834b.dcm','9f756055-99fc-4a80-97b4-f89f98cf92d2.dcm']"
      ]
     },
     "execution_count": 13,
     "metadata": {
      "tags": []
     },
     "output_type": "execute_result"
    }
   ],
   "source": [
    "fns_trn = path_trn.ls()\n",
    "fns_trn[:5].attrgot('name')"
   ]
  },
  {
   "cell_type": "code",
   "execution_count": 0,
   "metadata": {
    "colab": {
     "base_uri": "https://localhost:8080/",
     "height": 34
    },
    "colab_type": "code",
    "id": "9fMz5tBLRx9Q",
    "outputId": "f1a328e5-6fbc-4714-80af-4e756cc8a148"
   },
   "outputs": [
    {
     "data": {
      "text/plain": [
       "(26684, 3000)"
      ]
     },
     "execution_count": 14,
     "metadata": {
      "tags": []
     },
     "output_type": "execute_result"
    }
   ],
   "source": [
    "fns_tst = path_tst.ls()\n",
    "len(fns_trn),len(fns_tst)"
   ]
  },
  {
   "cell_type": "code",
   "execution_count": 0,
   "metadata": {
    "colab": {
     "base_uri": "https://localhost:8080/",
     "height": 612
    },
    "colab_type": "code",
    "id": "yIcggFHIR8E0",
    "outputId": "a97df46f-275b-4a89-b09a-c5781366c913"
   },
   "outputs": [
    {
     "data": {
      "text/plain": [
       "(0008, 0005) Specific Character Set              CS: 'ISO_IR 100'\n",
       "(0008, 0016) SOP Class UID                       UI: Secondary Capture Image Storage\n",
       "(0008, 0018) SOP Instance UID                    UI: 1.2.276.0.7230010.3.1.4.8323329.18067.1517874408.375750\n",
       "(0008, 0020) Study Date                          DA: '19010101'\n",
       "(0008, 0030) Study Time                          TM: '000000.00'\n",
       "(0008, 0050) Accession Number                    SH: ''\n",
       "(0008, 0060) Modality                            CS: 'CR'\n",
       "(0008, 0064) Conversion Type                     CS: 'WSD'\n",
       "(0008, 0090) Referring Physician's Name          PN: ''\n",
       "(0008, 103e) Series Description                  LO: 'view: PA'\n",
       "(0010, 0010) Patient's Name                      PN: 'cb30c3d6-cb5c-4d23-ad41-0340c50b30f5'\n",
       "(0010, 0020) Patient ID                          LO: 'cb30c3d6-cb5c-4d23-ad41-0340c50b30f5'\n",
       "(0010, 0030) Patient's Birth Date                DA: ''\n",
       "(0010, 0040) Patient's Sex                       CS: 'M'\n",
       "(0010, 1010) Patient's Age                       AS: '45'\n",
       "(0018, 0015) Body Part Examined                  CS: 'CHEST'\n",
       "(0018, 5101) View Position                       CS: 'PA'\n",
       "(0020, 000d) Study Instance UID                  UI: 1.2.276.0.7230010.3.1.2.8323329.18067.1517874408.375749\n",
       "(0020, 000e) Series Instance UID                 UI: 1.2.276.0.7230010.3.1.3.8323329.18067.1517874408.375748\n",
       "(0020, 0010) Study ID                            SH: ''\n",
       "(0020, 0011) Series Number                       IS: \"1\"\n",
       "(0020, 0013) Instance Number                     IS: \"1\"\n",
       "(0020, 0020) Patient Orientation                 CS: ''\n",
       "(0028, 0002) Samples per Pixel                   US: 1\n",
       "(0028, 0004) Photometric Interpretation          CS: 'MONOCHROME2'\n",
       "(0028, 0010) Rows                                US: 1024\n",
       "(0028, 0011) Columns                             US: 1024\n",
       "(0028, 0030) Pixel Spacing                       DS: [0.171, 0.171]\n",
       "(0028, 0100) Bits Allocated                      US: 8\n",
       "(0028, 0101) Bits Stored                         US: 8\n",
       "(0028, 0102) High Bit                            US: 7\n",
       "(0028, 0103) Pixel Representation                US: 0\n",
       "(0028, 2110) Lossy Image Compression             CS: '01'\n",
       "(0028, 2114) Lossy Image Compression Method      CS: 'ISO_10918_1'\n",
       "(7fe0, 0010) Pixel Data                          OB: Array of 112586 elements"
      ]
     },
     "execution_count": 15,
     "metadata": {
      "tags": []
     },
     "output_type": "execute_result"
    }
   ],
   "source": [
    "# Read Image without Lung Opacity\n",
    "fn = fns_trn[0]\n",
    "dcm = fn.dcmread()\n",
    "dcm"
   ]
  },
  {
   "cell_type": "code",
   "execution_count": 0,
   "metadata": {
    "colab": {
     "base_uri": "https://localhost:8080/",
     "height": 612
    },
    "colab_type": "code",
    "id": "cLKKCsTnkta-",
    "outputId": "efd1840f-8b47-4028-dcd6-b76ff31b838b"
   },
   "outputs": [
    {
     "data": {
      "text/plain": [
       "(0008, 0005) Specific Character Set              CS: 'ISO_IR 100'\n",
       "(0008, 0016) SOP Class UID                       UI: Secondary Capture Image Storage\n",
       "(0008, 0018) SOP Instance UID                    UI: 1.2.276.0.7230010.3.1.4.8323329.16592.1517874398.438468\n",
       "(0008, 0020) Study Date                          DA: '19010101'\n",
       "(0008, 0030) Study Time                          TM: '000000.00'\n",
       "(0008, 0050) Accession Number                    SH: ''\n",
       "(0008, 0060) Modality                            CS: 'CR'\n",
       "(0008, 0064) Conversion Type                     CS: 'WSD'\n",
       "(0008, 0090) Referring Physician's Name          PN: ''\n",
       "(0008, 103e) Series Description                  LO: 'view: PA'\n",
       "(0010, 0010) Patient's Name                      PN: '9f756055-99fc-4a80-97b4-f89f98cf92d2'\n",
       "(0010, 0020) Patient ID                          LO: '9f756055-99fc-4a80-97b4-f89f98cf92d2'\n",
       "(0010, 0030) Patient's Birth Date                DA: ''\n",
       "(0010, 0040) Patient's Sex                       CS: 'M'\n",
       "(0010, 1010) Patient's Age                       AS: '50'\n",
       "(0018, 0015) Body Part Examined                  CS: 'CHEST'\n",
       "(0018, 5101) View Position                       CS: 'PA'\n",
       "(0020, 000d) Study Instance UID                  UI: 1.2.276.0.7230010.3.1.2.8323329.16592.1517874398.438467\n",
       "(0020, 000e) Series Instance UID                 UI: 1.2.276.0.7230010.3.1.3.8323329.16592.1517874398.438466\n",
       "(0020, 0010) Study ID                            SH: ''\n",
       "(0020, 0011) Series Number                       IS: \"1\"\n",
       "(0020, 0013) Instance Number                     IS: \"1\"\n",
       "(0020, 0020) Patient Orientation                 CS: ''\n",
       "(0028, 0002) Samples per Pixel                   US: 1\n",
       "(0028, 0004) Photometric Interpretation          CS: 'MONOCHROME2'\n",
       "(0028, 0010) Rows                                US: 1024\n",
       "(0028, 0011) Columns                             US: 1024\n",
       "(0028, 0030) Pixel Spacing                       DS: [0.168, 0.168]\n",
       "(0028, 0100) Bits Allocated                      US: 8\n",
       "(0028, 0101) Bits Stored                         US: 8\n",
       "(0028, 0102) High Bit                            US: 7\n",
       "(0028, 0103) Pixel Representation                US: 0\n",
       "(0028, 2110) Lossy Image Compression             CS: '01'\n",
       "(0028, 2114) Lossy Image Compression Method      CS: 'ISO_10918_1'\n",
       "(7fe0, 0010) Pixel Data                          OB: Array of 111180 elements"
      ]
     },
     "execution_count": 66,
     "metadata": {
      "tags": []
     },
     "output_type": "execute_result"
    }
   ],
   "source": [
    "# Read Image with Lung Opacity\n",
    "fn1 = fns_trn[4]\n",
    "dcm1 = fn1.dcmread()\n",
    "dcm1"
   ]
  },
  {
   "cell_type": "code",
   "execution_count": 0,
   "metadata": {
    "colab": {
     "base_uri": "https://localhost:8080/",
     "height": 697
    },
    "colab_type": "code",
    "id": "Ak7KlkUiYVIx",
    "outputId": "2270e80f-f9d3-4658-fe78-293c1bcbde7e"
   },
   "outputs": [
    {
     "data": {
      "image/png": "[encoded data removed]",
      "text/plain": [
       "<Figure size 432x432 with 1 Axes>"
      ]
     },
     "metadata": {
      "needs_background": "light",
      "tags": []
     },
     "output_type": "display_data"
    },
    {
     "data": {
      "image/png": "[encoded data removed]",
      "text/plain": [
       "<Figure size 432x432 with 1 Axes>"
      ]
     },
     "metadata": {
      "needs_background": "light",
      "tags": []
     },
     "output_type": "display_data"
    }
   ],
   "source": [
    "# Print Image without Lung Opacity\n",
    "dcm.show(figsize=(6,6))\n",
    "# Print Image with Lung Opacity\n",
    "dcm1.show(figsize=(6,6))"
   ]
  },
  {
   "cell_type": "code",
   "execution_count": 0,
   "metadata": {
    "colab": {
     "base_uri": "https://localhost:8080/",
     "height": 204
    },
    "colab_type": "code",
    "id": "gR3WXMLwR-9v",
    "outputId": "62e02d32-6efa-474d-d79c-b7ee9377b700"
   },
   "outputs": [
    {
     "data": {
      "text/html": [
       "<div>\n",
       "<style scoped>\n",
       "    .dataframe tbody tr th:only-of-type {\n",
       "        vertical-align: middle;\n",
       "    }\n",
       "\n",
       "    .dataframe tbody tr th {\n",
       "        vertical-align: top;\n",
       "    }\n",
       "\n",
       "    .dataframe thead th {\n",
       "        text-align: right;\n",
       "    }\n",
       "</style>\n",
       "<table border=\"1\" class=\"dataframe\">\n",
       "  <thead>\n",
       "    <tr style=\"text-align: right;\">\n",
       "      <th></th>\n",
       "      <th>patientId</th>\n",
       "      <th>class</th>\n",
       "    </tr>\n",
       "  </thead>\n",
       "  <tbody>\n",
       "    <tr>\n",
       "      <th>0</th>\n",
       "      <td>0004cfab-14fd-4e49-80ba-63a80b6bddd6</td>\n",
       "      <td>No Lung Opacity / Not Normal</td>\n",
       "    </tr>\n",
       "    <tr>\n",
       "      <th>1</th>\n",
       "      <td>00313ee0-9eaa-42f4-b0ab-c148ed3241cd</td>\n",
       "      <td>No Lung Opacity / Not Normal</td>\n",
       "    </tr>\n",
       "    <tr>\n",
       "      <th>2</th>\n",
       "      <td>00322d4d-1c29-4943-afc9-b6754be640eb</td>\n",
       "      <td>No Lung Opacity / Not Normal</td>\n",
       "    </tr>\n",
       "    <tr>\n",
       "      <th>3</th>\n",
       "      <td>003d8fa0-6bf1-40ed-b54c-ac657f8495c5</td>\n",
       "      <td>Normal</td>\n",
       "    </tr>\n",
       "    <tr>\n",
       "      <th>4</th>\n",
       "      <td>00436515-870c-4b36-a041-de91049b9ab4</td>\n",
       "      <td>Lung Opacity</td>\n",
       "    </tr>\n",
       "  </tbody>\n",
       "</table>\n",
       "</div>"
      ],
      "text/plain": [
       "                              patientId                         class\n",
       "0  0004cfab-14fd-4e49-80ba-63a80b6bddd6  No Lung Opacity / Not Normal\n",
       "1  00313ee0-9eaa-42f4-b0ab-c148ed3241cd  No Lung Opacity / Not Normal\n",
       "2  00322d4d-1c29-4943-afc9-b6754be640eb  No Lung Opacity / Not Normal\n",
       "3  003d8fa0-6bf1-40ed-b54c-ac657f8495c5                        Normal\n",
       "4  00436515-870c-4b36-a041-de91049b9ab4                  Lung Opacity"
      ]
     },
     "execution_count": 16,
     "metadata": {
      "tags": []
     },
     "output_type": "execute_result"
    }
   ],
   "source": [
    "# Read the Detailed Class Info\n",
    "detailed_lbls = path/'stage_2_detailed_class_info.csv'\n",
    "deta_lbls = pd.read_csv(detailed_lbls)\n",
    "deta_lbls.head()"
   ]
  },
  {
   "cell_type": "code",
   "execution_count": 0,
   "metadata": {
    "colab": {
     "base_uri": "https://localhost:8080/",
     "height": 51
    },
    "colab_type": "code",
    "id": "0u_MD7jhcfpF",
    "outputId": "95ef34c0-7578-468a-b652-e09315d741d8"
   },
   "outputs": [
    {
     "name": "stderr",
     "output_type": "stream",
     "text": [
      "/usr/local/lib/python3.6/dist-packages/statsmodels/tools/_testing.py:19: FutureWarning: pandas.util.testing is deprecated. Use the functions in the public API at pandas.testing instead.\n",
      "  import pandas.util.testing as tm\n"
     ]
    }
   ],
   "source": [
    "import matplotlib.pyplot as plt \n",
    "%matplotlib inline\n",
    "import seaborn as sns"
   ]
  },
  {
   "cell_type": "code",
   "execution_count": 0,
   "metadata": {
    "colab": {
     "base_uri": "https://localhost:8080/",
     "height": 170
    },
    "colab_type": "code",
    "id": "kyGs4n0edXYe",
    "outputId": "abbffe66-7f99-4791-cb9f-bab733b6c294"
   },
   "outputs": [
    {
     "name": "stdout",
     "output_type": "stream",
     "text": [
      "<class 'pandas.core.frame.DataFrame'>\n",
      "RangeIndex: 30227 entries, 0 to 30226\n",
      "Data columns (total 2 columns):\n",
      " #   Column     Non-Null Count  Dtype \n",
      "---  ------     --------------  ----- \n",
      " 0   patientId  30227 non-null  object\n",
      " 1   class      30227 non-null  object\n",
      "dtypes: object(2)\n",
      "memory usage: 472.4+ KB\n"
     ]
    }
   ],
   "source": [
    "deta_lbls.info()"
   ]
  },
  {
   "cell_type": "code",
   "execution_count": 0,
   "metadata": {
    "colab": {
     "base_uri": "https://localhost:8080/",
     "height": 85
    },
    "colab_type": "code",
    "id": "cfwKrhBsd4M3",
    "outputId": "365161fd-cfa0-4ece-c0a1-fb95ccda82fa"
   },
   "outputs": [
    {
     "data": {
      "text/plain": [
       "No Lung Opacity / Not Normal    11821\n",
       "Lung Opacity                     9555\n",
       "Normal                           8851\n",
       "Name: class, dtype: int64"
      ]
     },
     "execution_count": 19,
     "metadata": {
      "tags": []
     },
     "output_type": "execute_result"
    }
   ],
   "source": [
    "deta_lbls['class'].value_counts()"
   ]
  },
  {
   "cell_type": "code",
   "execution_count": 0,
   "metadata": {
    "colab": {
     "base_uri": "https://localhost:8080/",
     "height": 68
    },
    "colab_type": "code",
    "id": "SA39GdzZ_TZn",
    "outputId": "ac415df0-3e8a-4a45-b962-08b3c5ec126c"
   },
   "outputs": [
    {
     "data": {
      "text/plain": [
       "patientId    26684\n",
       "class            3\n",
       "dtype: int64"
      ]
     },
     "execution_count": 20,
     "metadata": {
      "tags": []
     },
     "output_type": "execute_result"
    }
   ],
   "source": [
    "deta_lbls.nunique()"
   ]
  },
  {
   "cell_type": "markdown",
   "metadata": {
    "colab_type": "text",
    "id": "PEDE26hS_oKD"
   },
   "source": [
    "## Observation : Number of unique patientIds = 26684 and the number of rows in the Data Frame = 30227. This indicates that there are duplicate entries for some of the patientIds. "
   ]
  },
  {
   "cell_type": "code",
   "execution_count": 0,
   "metadata": {
    "colab": {
     "base_uri": "https://localhost:8080/",
     "height": 419
    },
    "colab_type": "code",
    "id": "HrLe0JsPSbkq",
    "outputId": "02d1d76b-01e7-42ce-ccee-2f09a30bca52"
   },
   "outputs": [
    {
     "data": {
      "text/html": [
       "<div>\n",
       "<style scoped>\n",
       "    .dataframe tbody tr th:only-of-type {\n",
       "        vertical-align: middle;\n",
       "    }\n",
       "\n",
       "    .dataframe tbody tr th {\n",
       "        vertical-align: top;\n",
       "    }\n",
       "\n",
       "    .dataframe thead th {\n",
       "        text-align: right;\n",
       "    }\n",
       "</style>\n",
       "<table border=\"1\" class=\"dataframe\">\n",
       "  <thead>\n",
       "    <tr style=\"text-align: right;\">\n",
       "      <th></th>\n",
       "      <th>patientId</th>\n",
       "      <th>class</th>\n",
       "    </tr>\n",
       "  </thead>\n",
       "  <tbody>\n",
       "    <tr>\n",
       "      <th>28990</th>\n",
       "      <td>000db696-cf54-4385-b10b-6b16fbb3f985</td>\n",
       "      <td>Lung Opacity</td>\n",
       "    </tr>\n",
       "    <tr>\n",
       "      <th>28991</th>\n",
       "      <td>000db696-cf54-4385-b10b-6b16fbb3f985</td>\n",
       "      <td>Lung Opacity</td>\n",
       "    </tr>\n",
       "    <tr>\n",
       "      <th>28992</th>\n",
       "      <td>000fe35a-2649-43d4-b027-e67796d412e0</td>\n",
       "      <td>Lung Opacity</td>\n",
       "    </tr>\n",
       "    <tr>\n",
       "      <th>28993</th>\n",
       "      <td>000fe35a-2649-43d4-b027-e67796d412e0</td>\n",
       "      <td>Lung Opacity</td>\n",
       "    </tr>\n",
       "    <tr>\n",
       "      <th>28994</th>\n",
       "      <td>001031d9-f904-4a23-b3e5-2c088acd19c6</td>\n",
       "      <td>Lung Opacity</td>\n",
       "    </tr>\n",
       "    <tr>\n",
       "      <th>...</th>\n",
       "      <td>...</td>\n",
       "      <td>...</td>\n",
       "    </tr>\n",
       "    <tr>\n",
       "      <th>28946</th>\n",
       "      <td>ffa424d2-6e6b-4eed-93ab-7551e8941215</td>\n",
       "      <td>Lung Opacity</td>\n",
       "    </tr>\n",
       "    <tr>\n",
       "      <th>28966</th>\n",
       "      <td>ffd787b6-59ca-48cb-bd15-bcedd52cf37c</td>\n",
       "      <td>Lung Opacity</td>\n",
       "    </tr>\n",
       "    <tr>\n",
       "      <th>28967</th>\n",
       "      <td>ffd787b6-59ca-48cb-bd15-bcedd52cf37c</td>\n",
       "      <td>Lung Opacity</td>\n",
       "    </tr>\n",
       "    <tr>\n",
       "      <th>28983</th>\n",
       "      <td>fffb2395-8edd-4954-8a89-ffe2fd329be3</td>\n",
       "      <td>Lung Opacity</td>\n",
       "    </tr>\n",
       "    <tr>\n",
       "      <th>28984</th>\n",
       "      <td>fffb2395-8edd-4954-8a89-ffe2fd329be3</td>\n",
       "      <td>Lung Opacity</td>\n",
       "    </tr>\n",
       "  </tbody>\n",
       "</table>\n",
       "<p>6941 rows × 2 columns</p>\n",
       "</div>"
      ],
      "text/plain": [
       "                                  patientId         class\n",
       "28990  000db696-cf54-4385-b10b-6b16fbb3f985  Lung Opacity\n",
       "28991  000db696-cf54-4385-b10b-6b16fbb3f985  Lung Opacity\n",
       "28992  000fe35a-2649-43d4-b027-e67796d412e0  Lung Opacity\n",
       "28993  000fe35a-2649-43d4-b027-e67796d412e0  Lung Opacity\n",
       "28994  001031d9-f904-4a23-b3e5-2c088acd19c6  Lung Opacity\n",
       "...                                     ...           ...\n",
       "28946  ffa424d2-6e6b-4eed-93ab-7551e8941215  Lung Opacity\n",
       "28966  ffd787b6-59ca-48cb-bd15-bcedd52cf37c  Lung Opacity\n",
       "28967  ffd787b6-59ca-48cb-bd15-bcedd52cf37c  Lung Opacity\n",
       "28983  fffb2395-8edd-4954-8a89-ffe2fd329be3  Lung Opacity\n",
       "28984  fffb2395-8edd-4954-8a89-ffe2fd329be3  Lung Opacity\n",
       "\n",
       "[6941 rows x 2 columns]"
      ]
     },
     "execution_count": 23,
     "metadata": {
      "tags": []
     },
     "output_type": "execute_result"
    }
   ],
   "source": [
    "# Printing the duplicate Patient IDs\n",
    "duplicate_patients = deta_lbls[deta_lbls.patientId.duplicated(keep=False)].sort_values(\"patientId\")\n",
    "duplicate_patients"
   ]
  },
  {
   "cell_type": "code",
   "execution_count": 0,
   "metadata": {
    "colab": {
     "base_uri": "https://localhost:8080/",
     "height": 68
    },
    "colab_type": "code",
    "id": "BUu12DobS7s3",
    "outputId": "7808de26-1894-4541-bdea-682503d6ded5"
   },
   "outputs": [
    {
     "data": {
      "text/plain": [
       "patientId    3398\n",
       "class           1\n",
       "dtype: int64"
      ]
     },
     "execution_count": 24,
     "metadata": {
      "tags": []
     },
     "output_type": "execute_result"
    }
   ],
   "source": [
    "duplicate_patients.nunique()"
   ]
  },
  {
   "cell_type": "markdown",
   "metadata": {
    "colab_type": "text",
    "id": "sql_Qr2yTbSM"
   },
   "source": [
    "## Observation : the above Count of duplicate Patient IDs indicate that there is only 1 unique count for Class and hence only one entry per duplicate Patient ID only needs to be retained. The rest of the duplicates can be dropped."
   ]
  },
  {
   "cell_type": "code",
   "execution_count": 0,
   "metadata": {
    "colab": {},
    "colab_type": "code",
    "id": "fu8l1oYCUDlh"
   },
   "outputs": [],
   "source": [
    "deta_lbls = deta_lbls.drop_duplicates([\"patientId\"], keep='first').reset_index(drop=True)\n"
   ]
  },
  {
   "cell_type": "code",
   "execution_count": 0,
   "metadata": {
    "colab": {
     "base_uri": "https://localhost:8080/",
     "height": 170
    },
    "colab_type": "code",
    "id": "OYds4oP1Vrs4",
    "outputId": "d547d163-e3bd-4436-dc11-86d38560226d"
   },
   "outputs": [
    {
     "name": "stdout",
     "output_type": "stream",
     "text": [
      "<class 'pandas.core.frame.DataFrame'>\n",
      "RangeIndex: 26684 entries, 0 to 26683\n",
      "Data columns (total 2 columns):\n",
      " #   Column     Non-Null Count  Dtype \n",
      "---  ------     --------------  ----- \n",
      " 0   patientId  26684 non-null  object\n",
      " 1   class      26684 non-null  object\n",
      "dtypes: object(2)\n",
      "memory usage: 417.1+ KB\n"
     ]
    }
   ],
   "source": [
    "# Ensuring all duplicates are removed\n",
    "deta_lbls.info()"
   ]
  },
  {
   "cell_type": "code",
   "execution_count": 0,
   "metadata": {
    "colab": {},
    "colab_type": "code",
    "id": "LUr4j-oCeH9T"
   },
   "outputs": [],
   "source": [
    "deta_lbls['class']=deta_lbls['class'].astype('category')"
   ]
  },
  {
   "cell_type": "code",
   "execution_count": 0,
   "metadata": {
    "colab": {},
    "colab_type": "code",
    "id": "34GTwACNePbo"
   },
   "outputs": [],
   "source": [
    "deta_lbls_rev = deta_lbls.copy(deep=True)"
   ]
  },
  {
   "cell_type": "code",
   "execution_count": 0,
   "metadata": {
    "colab": {},
    "colab_type": "code",
    "id": "lbn-gpCFeXpP"
   },
   "outputs": [],
   "source": [
    "from sklearn import preprocessing\n",
    "\n",
    "le = preprocessing.LabelEncoder()"
   ]
  },
  {
   "cell_type": "code",
   "execution_count": 0,
   "metadata": {
    "colab": {},
    "colab_type": "code",
    "id": "mZIexC87elIz"
   },
   "outputs": [],
   "source": [
    "class_cat = le.fit_transform(deta_lbls[\"class\"])"
   ]
  },
  {
   "cell_type": "code",
   "execution_count": 0,
   "metadata": {
    "colab": {},
    "colab_type": "code",
    "id": "k3CCjsR4ezfB"
   },
   "outputs": [],
   "source": [
    "#initialize the encoded categorical columns\n",
    "deta_lbls_rev['class_cat'] = class_cat"
   ]
  },
  {
   "cell_type": "code",
   "execution_count": 0,
   "metadata": {
    "colab": {},
    "colab_type": "code",
    "id": "vdLrvXkFfHRu"
   },
   "outputs": [],
   "source": [
    "#drop the old categorical columns from dataframe\n",
    "dummy_field = ['class']\n",
    "deta_lbls_rev = deta_lbls_rev.drop(dummy_field, axis = 1)"
   ]
  },
  {
   "cell_type": "code",
   "execution_count": 0,
   "metadata": {
    "colab": {
     "base_uri": "https://localhost:8080/",
     "height": 359
    },
    "colab_type": "code",
    "id": "ycXjSsDtfQHZ",
    "outputId": "a4148a14-60a1-4581-e02b-0d04690951be"
   },
   "outputs": [
    {
     "data": {
      "text/html": [
       "<div>\n",
       "<style scoped>\n",
       "    .dataframe tbody tr th:only-of-type {\n",
       "        vertical-align: middle;\n",
       "    }\n",
       "\n",
       "    .dataframe tbody tr th {\n",
       "        vertical-align: top;\n",
       "    }\n",
       "\n",
       "    .dataframe thead th {\n",
       "        text-align: right;\n",
       "    }\n",
       "</style>\n",
       "<table border=\"1\" class=\"dataframe\">\n",
       "  <thead>\n",
       "    <tr style=\"text-align: right;\">\n",
       "      <th></th>\n",
       "      <th>patientId</th>\n",
       "      <th>class_cat</th>\n",
       "    </tr>\n",
       "  </thead>\n",
       "  <tbody>\n",
       "    <tr>\n",
       "      <th>0</th>\n",
       "      <td>0004cfab-14fd-4e49-80ba-63a80b6bddd6</td>\n",
       "      <td>1</td>\n",
       "    </tr>\n",
       "    <tr>\n",
       "      <th>1</th>\n",
       "      <td>00313ee0-9eaa-42f4-b0ab-c148ed3241cd</td>\n",
       "      <td>1</td>\n",
       "    </tr>\n",
       "    <tr>\n",
       "      <th>2</th>\n",
       "      <td>00322d4d-1c29-4943-afc9-b6754be640eb</td>\n",
       "      <td>1</td>\n",
       "    </tr>\n",
       "    <tr>\n",
       "      <th>3</th>\n",
       "      <td>003d8fa0-6bf1-40ed-b54c-ac657f8495c5</td>\n",
       "      <td>2</td>\n",
       "    </tr>\n",
       "    <tr>\n",
       "      <th>4</th>\n",
       "      <td>00436515-870c-4b36-a041-de91049b9ab4</td>\n",
       "      <td>0</td>\n",
       "    </tr>\n",
       "    <tr>\n",
       "      <th>5</th>\n",
       "      <td>00569f44-917d-4c86-a842-81832af98c30</td>\n",
       "      <td>1</td>\n",
       "    </tr>\n",
       "    <tr>\n",
       "      <th>6</th>\n",
       "      <td>006cec2e-6ce2-4549-bffa-eadfcd1e9970</td>\n",
       "      <td>1</td>\n",
       "    </tr>\n",
       "    <tr>\n",
       "      <th>7</th>\n",
       "      <td>00704310-78a8-4b38-8475-49f4573b2dbb</td>\n",
       "      <td>0</td>\n",
       "    </tr>\n",
       "    <tr>\n",
       "      <th>8</th>\n",
       "      <td>008c19e8-a820-403a-930a-bc74a4053664</td>\n",
       "      <td>1</td>\n",
       "    </tr>\n",
       "    <tr>\n",
       "      <th>9</th>\n",
       "      <td>009482dc-3db5-48d4-8580-5c89c4f01334</td>\n",
       "      <td>2</td>\n",
       "    </tr>\n",
       "  </tbody>\n",
       "</table>\n",
       "</div>"
      ],
      "text/plain": [
       "                              patientId  class_cat\n",
       "0  0004cfab-14fd-4e49-80ba-63a80b6bddd6          1\n",
       "1  00313ee0-9eaa-42f4-b0ab-c148ed3241cd          1\n",
       "2  00322d4d-1c29-4943-afc9-b6754be640eb          1\n",
       "3  003d8fa0-6bf1-40ed-b54c-ac657f8495c5          2\n",
       "4  00436515-870c-4b36-a041-de91049b9ab4          0\n",
       "5  00569f44-917d-4c86-a842-81832af98c30          1\n",
       "6  006cec2e-6ce2-4549-bffa-eadfcd1e9970          1\n",
       "7  00704310-78a8-4b38-8475-49f4573b2dbb          0\n",
       "8  008c19e8-a820-403a-930a-bc74a4053664          1\n",
       "9  009482dc-3db5-48d4-8580-5c89c4f01334          2"
      ]
     },
     "execution_count": 33,
     "metadata": {
      "tags": []
     },
     "output_type": "execute_result"
    }
   ],
   "source": [
    "# Re-index the new dataframe and view it\n",
    "deta_lbls_rev = deta_lbls_rev.reindex(['patientId','class_cat'], axis= 1)\n",
    "deta_lbls_rev.head(10)"
   ]
  },
  {
   "cell_type": "code",
   "execution_count": 0,
   "metadata": {
    "colab": {
     "base_uri": "https://localhost:8080/",
     "height": 85
    },
    "colab_type": "code",
    "id": "rmfLzMeFWf1m",
    "outputId": "a85ec58b-ccc7-4d56-c253-feb790cc3d4f"
   },
   "outputs": [
    {
     "data": {
      "text/plain": [
       "No Lung Opacity / Not Normal    11821\n",
       "Normal                           8851\n",
       "Lung Opacity                     6012\n",
       "Name: class, dtype: int64"
      ]
     },
     "execution_count": 35,
     "metadata": {
      "tags": []
     },
     "output_type": "execute_result"
    }
   ],
   "source": [
    "deta_lbls['class'].value_counts()"
   ]
  },
  {
   "cell_type": "code",
   "execution_count": 0,
   "metadata": {
    "colab": {
     "base_uri": "https://localhost:8080/",
     "height": 297
    },
    "colab_type": "code",
    "id": "-PcUibZGcl-e",
    "outputId": "782c018b-e2d8-43ee-de2f-b11b99bbbe86"
   },
   "outputs": [
    {
     "data": {
      "text/plain": [
       "<matplotlib.axes._subplots.AxesSubplot at 0x7fc0794fcd30>"
      ]
     },
     "execution_count": 34,
     "metadata": {
      "tags": []
     },
     "output_type": "execute_result"
    },
    {
     "data": {
      "image/png": "[encoded data removed]",
      "text/plain": [
       "<Figure size 432x288 with 1 Axes>"
      ]
     },
     "metadata": {
      "needs_background": "light",
      "tags": []
     },
     "output_type": "display_data"
    }
   ],
   "source": [
    "sns.countplot(deta_lbls_rev['class_cat'])"
   ]
  },
  {
   "cell_type": "markdown",
   "metadata": {
    "colab_type": "text",
    "id": "9GeZwD2fgQj0"
   },
   "source": [
    "## Observation : Data is slightly skewed towards Class = 'No Lung Opacity / Not Normal'; however the skew isn't a heavy one, so can live with it since the real world scenario is going to be such as well."
   ]
  },
  {
   "cell_type": "code",
   "execution_count": 0,
   "metadata": {
    "colab": {
     "base_uri": "https://localhost:8080/",
     "height": 204
    },
    "colab_type": "code",
    "id": "qRWeD4VWVYKl",
    "outputId": "8c12bb62-2647-4e67-d2a0-65dcd5887f6c"
   },
   "outputs": [
    {
     "data": {
      "text/html": [
       "<div>\n",
       "<style scoped>\n",
       "    .dataframe tbody tr th:only-of-type {\n",
       "        vertical-align: middle;\n",
       "    }\n",
       "\n",
       "    .dataframe tbody tr th {\n",
       "        vertical-align: top;\n",
       "    }\n",
       "\n",
       "    .dataframe thead th {\n",
       "        text-align: right;\n",
       "    }\n",
       "</style>\n",
       "<table border=\"1\" class=\"dataframe\">\n",
       "  <thead>\n",
       "    <tr style=\"text-align: right;\">\n",
       "      <th></th>\n",
       "      <th>patientId</th>\n",
       "      <th>x</th>\n",
       "      <th>y</th>\n",
       "      <th>width</th>\n",
       "      <th>height</th>\n",
       "      <th>Target</th>\n",
       "    </tr>\n",
       "  </thead>\n",
       "  <tbody>\n",
       "    <tr>\n",
       "      <th>0</th>\n",
       "      <td>0004cfab-14fd-4e49-80ba-63a80b6bddd6</td>\n",
       "      <td>NaN</td>\n",
       "      <td>NaN</td>\n",
       "      <td>NaN</td>\n",
       "      <td>NaN</td>\n",
       "      <td>0</td>\n",
       "    </tr>\n",
       "    <tr>\n",
       "      <th>1</th>\n",
       "      <td>00313ee0-9eaa-42f4-b0ab-c148ed3241cd</td>\n",
       "      <td>NaN</td>\n",
       "      <td>NaN</td>\n",
       "      <td>NaN</td>\n",
       "      <td>NaN</td>\n",
       "      <td>0</td>\n",
       "    </tr>\n",
       "    <tr>\n",
       "      <th>2</th>\n",
       "      <td>00322d4d-1c29-4943-afc9-b6754be640eb</td>\n",
       "      <td>NaN</td>\n",
       "      <td>NaN</td>\n",
       "      <td>NaN</td>\n",
       "      <td>NaN</td>\n",
       "      <td>0</td>\n",
       "    </tr>\n",
       "    <tr>\n",
       "      <th>3</th>\n",
       "      <td>003d8fa0-6bf1-40ed-b54c-ac657f8495c5</td>\n",
       "      <td>NaN</td>\n",
       "      <td>NaN</td>\n",
       "      <td>NaN</td>\n",
       "      <td>NaN</td>\n",
       "      <td>0</td>\n",
       "    </tr>\n",
       "    <tr>\n",
       "      <th>4</th>\n",
       "      <td>00436515-870c-4b36-a041-de91049b9ab4</td>\n",
       "      <td>264.0</td>\n",
       "      <td>152.0</td>\n",
       "      <td>213.0</td>\n",
       "      <td>379.0</td>\n",
       "      <td>1</td>\n",
       "    </tr>\n",
       "  </tbody>\n",
       "</table>\n",
       "</div>"
      ],
      "text/plain": [
       "                              patientId      x      y  width  height  Target\n",
       "0  0004cfab-14fd-4e49-80ba-63a80b6bddd6    NaN    NaN    NaN     NaN       0\n",
       "1  00313ee0-9eaa-42f4-b0ab-c148ed3241cd    NaN    NaN    NaN     NaN       0\n",
       "2  00322d4d-1c29-4943-afc9-b6754be640eb    NaN    NaN    NaN     NaN       0\n",
       "3  003d8fa0-6bf1-40ed-b54c-ac657f8495c5    NaN    NaN    NaN     NaN       0\n",
       "4  00436515-870c-4b36-a041-de91049b9ab4  264.0  152.0  213.0   379.0       1"
      ]
     },
     "execution_count": 36,
     "metadata": {
      "tags": []
     },
     "output_type": "execute_result"
    }
   ],
   "source": [
    "# Read the BBox values\n",
    "path_lbls = path/'stage_2_train_labels.csv'\n",
    "lbls = pd.read_csv(path_lbls)\n",
    "lbls.head()"
   ]
  },
  {
   "cell_type": "code",
   "execution_count": 0,
   "metadata": {
    "colab": {},
    "colab_type": "code",
    "id": "tW_FPyVvVgvC"
   },
   "outputs": [],
   "source": [
    "lbls.drop_duplicates(['patientId'], inplace=True)"
   ]
  },
  {
   "cell_type": "code",
   "execution_count": 0,
   "metadata": {
    "colab": {},
    "colab_type": "code",
    "id": "Eo4e2Arj4WHC"
   },
   "outputs": [],
   "source": [
    "# Renaming the patientId column to be PatientId in order to make it consistent with the Image Metadata\n",
    "deta_lbls_rev.rename(columns = {'patientId':'PatientID'}, inplace = True) \n",
    "lbls.rename(columns = {'patientId':'PatientID'}, inplace = True) "
   ]
  },
  {
   "cell_type": "code",
   "execution_count": 0,
   "metadata": {
    "colab": {
     "base_uri": "https://localhost:8080/",
     "height": 204
    },
    "colab_type": "code",
    "id": "H3su-TgB4nXa",
    "outputId": "bb1d81a7-8fe7-4603-f117-cf1e244fb207"
   },
   "outputs": [
    {
     "data": {
      "text/html": [
       "<div>\n",
       "<style scoped>\n",
       "    .dataframe tbody tr th:only-of-type {\n",
       "        vertical-align: middle;\n",
       "    }\n",
       "\n",
       "    .dataframe tbody tr th {\n",
       "        vertical-align: top;\n",
       "    }\n",
       "\n",
       "    .dataframe thead th {\n",
       "        text-align: right;\n",
       "    }\n",
       "</style>\n",
       "<table border=\"1\" class=\"dataframe\">\n",
       "  <thead>\n",
       "    <tr style=\"text-align: right;\">\n",
       "      <th></th>\n",
       "      <th>PatientID</th>\n",
       "      <th>x</th>\n",
       "      <th>y</th>\n",
       "      <th>width</th>\n",
       "      <th>height</th>\n",
       "      <th>Target</th>\n",
       "    </tr>\n",
       "  </thead>\n",
       "  <tbody>\n",
       "    <tr>\n",
       "      <th>0</th>\n",
       "      <td>0004cfab-14fd-4e49-80ba-63a80b6bddd6</td>\n",
       "      <td>NaN</td>\n",
       "      <td>NaN</td>\n",
       "      <td>NaN</td>\n",
       "      <td>NaN</td>\n",
       "      <td>0</td>\n",
       "    </tr>\n",
       "    <tr>\n",
       "      <th>1</th>\n",
       "      <td>00313ee0-9eaa-42f4-b0ab-c148ed3241cd</td>\n",
       "      <td>NaN</td>\n",
       "      <td>NaN</td>\n",
       "      <td>NaN</td>\n",
       "      <td>NaN</td>\n",
       "      <td>0</td>\n",
       "    </tr>\n",
       "    <tr>\n",
       "      <th>2</th>\n",
       "      <td>00322d4d-1c29-4943-afc9-b6754be640eb</td>\n",
       "      <td>NaN</td>\n",
       "      <td>NaN</td>\n",
       "      <td>NaN</td>\n",
       "      <td>NaN</td>\n",
       "      <td>0</td>\n",
       "    </tr>\n",
       "    <tr>\n",
       "      <th>3</th>\n",
       "      <td>003d8fa0-6bf1-40ed-b54c-ac657f8495c5</td>\n",
       "      <td>NaN</td>\n",
       "      <td>NaN</td>\n",
       "      <td>NaN</td>\n",
       "      <td>NaN</td>\n",
       "      <td>0</td>\n",
       "    </tr>\n",
       "    <tr>\n",
       "      <th>4</th>\n",
       "      <td>00436515-870c-4b36-a041-de91049b9ab4</td>\n",
       "      <td>264.0</td>\n",
       "      <td>152.0</td>\n",
       "      <td>213.0</td>\n",
       "      <td>379.0</td>\n",
       "      <td>1</td>\n",
       "    </tr>\n",
       "  </tbody>\n",
       "</table>\n",
       "</div>"
      ],
      "text/plain": [
       "                              PatientID      x      y  width  height  Target\n",
       "0  0004cfab-14fd-4e49-80ba-63a80b6bddd6    NaN    NaN    NaN     NaN       0\n",
       "1  00313ee0-9eaa-42f4-b0ab-c148ed3241cd    NaN    NaN    NaN     NaN       0\n",
       "2  00322d4d-1c29-4943-afc9-b6754be640eb    NaN    NaN    NaN     NaN       0\n",
       "3  003d8fa0-6bf1-40ed-b54c-ac657f8495c5    NaN    NaN    NaN     NaN       0\n",
       "4  00436515-870c-4b36-a041-de91049b9ab4  264.0  152.0  213.0   379.0       1"
      ]
     },
     "execution_count": 42,
     "metadata": {
      "tags": []
     },
     "output_type": "execute_result"
    }
   ],
   "source": [
    "lbls.head()"
   ]
  },
  {
   "cell_type": "code",
   "execution_count": 0,
   "metadata": {
    "colab": {
     "base_uri": "https://localhost:8080/",
     "height": 136
    },
    "colab_type": "code",
    "id": "LT7ZmYH_k5vy",
    "outputId": "dc2f88d8-9165-4a7b-9d3d-69c337e8b9ab"
   },
   "outputs": [
    {
     "data": {
      "text/plain": [
       "PatientID    26684\n",
       "x             6012\n",
       "y             6012\n",
       "width         6012\n",
       "height        6012\n",
       "Target       26684\n",
       "dtype: int64"
      ]
     },
     "execution_count": 43,
     "metadata": {
      "tags": []
     },
     "output_type": "execute_result"
    }
   ],
   "source": [
    "lbls.count()"
   ]
  },
  {
   "cell_type": "code",
   "execution_count": 0,
   "metadata": {
    "colab": {
     "base_uri": "https://localhost:8080/",
     "height": 68
    },
    "colab_type": "code",
    "id": "8KoBYkcmh-kf",
    "outputId": "5f802747-b523-44c2-b46a-8dc0d9670c56"
   },
   "outputs": [
    {
     "data": {
      "text/plain": [
       "0    20672\n",
       "1     6012\n",
       "Name: Target, dtype: int64"
      ]
     },
     "execution_count": 44,
     "metadata": {
      "tags": []
     },
     "output_type": "execute_result"
    }
   ],
   "source": [
    "lbls['Target'].value_counts()"
   ]
  },
  {
   "cell_type": "markdown",
   "metadata": {
    "colab_type": "text",
    "id": "FBTiKLSrnO6D"
   },
   "source": [
    "## Observation : the images with Target value '1' (with Lung Opacity) have values for the attributes 'x', 'y', 'width' and 'height'and Taget value '0' has no values for these attributes; thus safely concluding that there are no missing bounding box values for the Lung Opacity cases."
   ]
  },
  {
   "cell_type": "code",
   "execution_count": 0,
   "metadata": {
    "colab": {
     "base_uri": "https://localhost:8080/",
     "height": 204
    },
    "colab_type": "code",
    "id": "ZMXLnWFeQkJC",
    "outputId": "8d8a3c18-6758-483b-ba7b-b270316b2e9a"
   },
   "outputs": [
    {
     "data": {
      "text/html": [
       "<div>\n",
       "<style scoped>\n",
       "    .dataframe tbody tr th:only-of-type {\n",
       "        vertical-align: middle;\n",
       "    }\n",
       "\n",
       "    .dataframe tbody tr th {\n",
       "        vertical-align: top;\n",
       "    }\n",
       "\n",
       "    .dataframe thead th {\n",
       "        text-align: right;\n",
       "    }\n",
       "</style>\n",
       "<table border=\"1\" class=\"dataframe\">\n",
       "  <thead>\n",
       "    <tr style=\"text-align: right;\">\n",
       "      <th></th>\n",
       "      <th>PatientID</th>\n",
       "      <th>class_cat</th>\n",
       "    </tr>\n",
       "  </thead>\n",
       "  <tbody>\n",
       "    <tr>\n",
       "      <th>0</th>\n",
       "      <td>0004cfab-14fd-4e49-80ba-63a80b6bddd6</td>\n",
       "      <td>1</td>\n",
       "    </tr>\n",
       "    <tr>\n",
       "      <th>1</th>\n",
       "      <td>00313ee0-9eaa-42f4-b0ab-c148ed3241cd</td>\n",
       "      <td>1</td>\n",
       "    </tr>\n",
       "    <tr>\n",
       "      <th>2</th>\n",
       "      <td>00322d4d-1c29-4943-afc9-b6754be640eb</td>\n",
       "      <td>1</td>\n",
       "    </tr>\n",
       "    <tr>\n",
       "      <th>3</th>\n",
       "      <td>003d8fa0-6bf1-40ed-b54c-ac657f8495c5</td>\n",
       "      <td>2</td>\n",
       "    </tr>\n",
       "    <tr>\n",
       "      <th>4</th>\n",
       "      <td>00436515-870c-4b36-a041-de91049b9ab4</td>\n",
       "      <td>0</td>\n",
       "    </tr>\n",
       "  </tbody>\n",
       "</table>\n",
       "</div>"
      ],
      "text/plain": [
       "                              PatientID  class_cat\n",
       "0  0004cfab-14fd-4e49-80ba-63a80b6bddd6          1\n",
       "1  00313ee0-9eaa-42f4-b0ab-c148ed3241cd          1\n",
       "2  00322d4d-1c29-4943-afc9-b6754be640eb          1\n",
       "3  003d8fa0-6bf1-40ed-b54c-ac657f8495c5          2\n",
       "4  00436515-870c-4b36-a041-de91049b9ab4          0"
      ]
     },
     "execution_count": 45,
     "metadata": {
      "tags": []
     },
     "output_type": "execute_result"
    }
   ],
   "source": [
    "deta_lbls_rev.head()"
   ]
  },
  {
   "cell_type": "code",
   "execution_count": 0,
   "metadata": {
    "colab": {
     "base_uri": "https://localhost:8080/",
     "height": 479
    },
    "colab_type": "code",
    "id": "LjDrn307jLZM",
    "outputId": "fec847d5-fa54-4307-fab1-858c7bca9a0f"
   },
   "outputs": [
    {
     "data": {
      "text/html": [],
      "text/plain": [
       "<IPython.core.display.HTML object>"
      ]
     },
     "metadata": {
      "tags": []
     },
     "output_type": "display_data"
    },
    {
     "data": {
      "text/html": [
       "<div>\n",
       "<style scoped>\n",
       "    .dataframe tbody tr th:only-of-type {\n",
       "        vertical-align: middle;\n",
       "    }\n",
       "\n",
       "    .dataframe tbody tr th {\n",
       "        vertical-align: top;\n",
       "    }\n",
       "\n",
       "    .dataframe thead th {\n",
       "        text-align: right;\n",
       "    }\n",
       "</style>\n",
       "<table border=\"1\" class=\"dataframe\">\n",
       "  <thead>\n",
       "    <tr style=\"text-align: right;\">\n",
       "      <th></th>\n",
       "      <th>SpecificCharacterSet</th>\n",
       "      <th>SOPClassUID</th>\n",
       "      <th>SOPInstanceUID</th>\n",
       "      <th>StudyDate</th>\n",
       "      <th>StudyTime</th>\n",
       "      <th>AccessionNumber</th>\n",
       "      <th>Modality</th>\n",
       "      <th>ConversionType</th>\n",
       "      <th>ReferringPhysicianName</th>\n",
       "      <th>SeriesDescription</th>\n",
       "      <th>PatientName</th>\n",
       "      <th>PatientID</th>\n",
       "      <th>PatientBirthDate</th>\n",
       "      <th>PatientSex</th>\n",
       "      <th>PatientAge</th>\n",
       "      <th>BodyPartExamined</th>\n",
       "      <th>ViewPosition</th>\n",
       "      <th>StudyInstanceUID</th>\n",
       "      <th>SeriesInstanceUID</th>\n",
       "      <th>StudyID</th>\n",
       "      <th>SeriesNumber</th>\n",
       "      <th>InstanceNumber</th>\n",
       "      <th>PatientOrientation</th>\n",
       "      <th>SamplesPerPixel</th>\n",
       "      <th>PhotometricInterpretation</th>\n",
       "      <th>Rows</th>\n",
       "      <th>Columns</th>\n",
       "      <th>PixelSpacing</th>\n",
       "      <th>BitsAllocated</th>\n",
       "      <th>BitsStored</th>\n",
       "      <th>HighBit</th>\n",
       "      <th>PixelRepresentation</th>\n",
       "      <th>LossyImageCompression</th>\n",
       "      <th>LossyImageCompressionMethod</th>\n",
       "      <th>fname</th>\n",
       "      <th>MultiPixelSpacing</th>\n",
       "      <th>PixelSpacing1</th>\n",
       "      <th>img_min</th>\n",
       "      <th>img_max</th>\n",
       "      <th>img_mean</th>\n",
       "      <th>img_std</th>\n",
       "      <th>img_pct_window</th>\n",
       "    </tr>\n",
       "  </thead>\n",
       "  <tbody>\n",
       "    <tr>\n",
       "      <th>0</th>\n",
       "      <td>ISO_IR 100</td>\n",
       "      <td>1.2.840.10008.5.1.4.1.1.7</td>\n",
       "      <td>1.2.276.0.7230010.3.1.4.8323329.7338.1517874331.59085</td>\n",
       "      <td>19010101</td>\n",
       "      <td>000000.00</td>\n",
       "      <td></td>\n",
       "      <td>CR</td>\n",
       "      <td>WSD</td>\n",
       "      <td></td>\n",
       "      <td>view: AP</td>\n",
       "      <td>28072866-534c-468f-92e0-ea14b79b9421</td>\n",
       "      <td>28072866-534c-468f-92e0-ea14b79b9421</td>\n",
       "      <td></td>\n",
       "      <td>F</td>\n",
       "      <td>31</td>\n",
       "      <td>CHEST</td>\n",
       "      <td>AP</td>\n",
       "      <td>1.2.276.0.7230010.3.1.2.8323329.7338.1517874331.59084</td>\n",
       "      <td>1.2.276.0.7230010.3.1.3.8323329.7338.1517874331.59083</td>\n",
       "      <td></td>\n",
       "      <td>1</td>\n",
       "      <td>1</td>\n",
       "      <td></td>\n",
       "      <td>1</td>\n",
       "      <td>MONOCHROME2</td>\n",
       "      <td>1024</td>\n",
       "      <td>1024</td>\n",
       "      <td>0.139</td>\n",
       "      <td>8</td>\n",
       "      <td>8</td>\n",
       "      <td>7</td>\n",
       "      <td>0</td>\n",
       "      <td>01</td>\n",
       "      <td>ISO_10918_1</td>\n",
       "      <td>../input/rsna/stage_2_test_images/28072866-534c-468f-92e0-ea14b79b9421.dcm</td>\n",
       "      <td>1</td>\n",
       "      <td>0.139</td>\n",
       "      <td>0</td>\n",
       "      <td>255</td>\n",
       "      <td>114.152410</td>\n",
       "      <td>55.647313</td>\n",
       "      <td>0.262469</td>\n",
       "    </tr>\n",
       "    <tr>\n",
       "      <th>1</th>\n",
       "      <td>ISO_IR 100</td>\n",
       "      <td>1.2.840.10008.5.1.4.1.1.7</td>\n",
       "      <td>1.2.276.0.7230010.3.1.4.8323329.19802.1517874419.903417</td>\n",
       "      <td>19010101</td>\n",
       "      <td>000000.00</td>\n",
       "      <td></td>\n",
       "      <td>CR</td>\n",
       "      <td>WSD</td>\n",
       "      <td></td>\n",
       "      <td>view: AP</td>\n",
       "      <td>20b02346-0873-481f-a701-5ed8155717d0</td>\n",
       "      <td>20b02346-0873-481f-a701-5ed8155717d0</td>\n",
       "      <td></td>\n",
       "      <td>M</td>\n",
       "      <td>21</td>\n",
       "      <td>CHEST</td>\n",
       "      <td>AP</td>\n",
       "      <td>1.2.276.0.7230010.3.1.2.8323329.19802.1517874419.903416</td>\n",
       "      <td>1.2.276.0.7230010.3.1.3.8323329.19802.1517874419.903415</td>\n",
       "      <td></td>\n",
       "      <td>1</td>\n",
       "      <td>1</td>\n",
       "      <td></td>\n",
       "      <td>1</td>\n",
       "      <td>MONOCHROME2</td>\n",
       "      <td>1024</td>\n",
       "      <td>1024</td>\n",
       "      <td>0.139</td>\n",
       "      <td>8</td>\n",
       "      <td>8</td>\n",
       "      <td>7</td>\n",
       "      <td>0</td>\n",
       "      <td>01</td>\n",
       "      <td>ISO_10918_1</td>\n",
       "      <td>../input/rsna/stage_2_test_images/20b02346-0873-481f-a701-5ed8155717d0.dcm</td>\n",
       "      <td>1</td>\n",
       "      <td>0.139</td>\n",
       "      <td>0</td>\n",
       "      <td>255</td>\n",
       "      <td>103.719934</td>\n",
       "      <td>47.309527</td>\n",
       "      <td>0.255092</td>\n",
       "    </tr>\n",
       "    <tr>\n",
       "      <th>2</th>\n",
       "      <td>ISO_IR 100</td>\n",
       "      <td>1.2.840.10008.5.1.4.1.1.7</td>\n",
       "      <td>1.2.276.0.7230010.3.1.4.8323329.17652.1517874405.348481</td>\n",
       "      <td>19010101</td>\n",
       "      <td>000000.00</td>\n",
       "      <td></td>\n",
       "      <td>CR</td>\n",
       "      <td>WSD</td>\n",
       "      <td></td>\n",
       "      <td>view: AP</td>\n",
       "      <td>0f3b2f60-d088-4e3e-b4fe-215bb5602926</td>\n",
       "      <td>0f3b2f60-d088-4e3e-b4fe-215bb5602926</td>\n",
       "      <td></td>\n",
       "      <td>F</td>\n",
       "      <td>29</td>\n",
       "      <td>CHEST</td>\n",
       "      <td>AP</td>\n",
       "      <td>1.2.276.0.7230010.3.1.2.8323329.17652.1517874405.348480</td>\n",
       "      <td>1.2.276.0.7230010.3.1.3.8323329.17652.1517874405.348479</td>\n",
       "      <td></td>\n",
       "      <td>1</td>\n",
       "      <td>1</td>\n",
       "      <td></td>\n",
       "      <td>1</td>\n",
       "      <td>MONOCHROME2</td>\n",
       "      <td>1024</td>\n",
       "      <td>1024</td>\n",
       "      <td>0.171</td>\n",
       "      <td>8</td>\n",
       "      <td>8</td>\n",
       "      <td>7</td>\n",
       "      <td>0</td>\n",
       "      <td>01</td>\n",
       "      <td>ISO_10918_1</td>\n",
       "      <td>../input/rsna/stage_2_test_images/0f3b2f60-d088-4e3e-b4fe-215bb5602926.dcm</td>\n",
       "      <td>1</td>\n",
       "      <td>0.171</td>\n",
       "      <td>0</td>\n",
       "      <td>241</td>\n",
       "      <td>128.741858</td>\n",
       "      <td>56.174007</td>\n",
       "      <td>0.188134</td>\n",
       "    </tr>\n",
       "    <tr>\n",
       "      <th>3</th>\n",
       "      <td>ISO_IR 100</td>\n",
       "      <td>1.2.840.10008.5.1.4.1.1.7</td>\n",
       "      <td>1.2.276.0.7230010.3.1.4.8323329.16725.1517874399.202247</td>\n",
       "      <td>19010101</td>\n",
       "      <td>000000.00</td>\n",
       "      <td></td>\n",
       "      <td>CR</td>\n",
       "      <td>WSD</td>\n",
       "      <td></td>\n",
       "      <td>view: AP</td>\n",
       "      <td>10fcfa38-7221-4801-8e56-2c6282c5a15a</td>\n",
       "      <td>10fcfa38-7221-4801-8e56-2c6282c5a15a</td>\n",
       "      <td></td>\n",
       "      <td>M</td>\n",
       "      <td>74</td>\n",
       "      <td>CHEST</td>\n",
       "      <td>AP</td>\n",
       "      <td>1.2.276.0.7230010.3.1.2.8323329.16725.1517874399.202246</td>\n",
       "      <td>1.2.276.0.7230010.3.1.3.8323329.16725.1517874399.202245</td>\n",
       "      <td></td>\n",
       "      <td>1</td>\n",
       "      <td>1</td>\n",
       "      <td></td>\n",
       "      <td>1</td>\n",
       "      <td>MONOCHROME2</td>\n",
       "      <td>1024</td>\n",
       "      <td>1024</td>\n",
       "      <td>0.139</td>\n",
       "      <td>8</td>\n",
       "      <td>8</td>\n",
       "      <td>7</td>\n",
       "      <td>0</td>\n",
       "      <td>01</td>\n",
       "      <td>ISO_10918_1</td>\n",
       "      <td>../input/rsna/stage_2_test_images/10fcfa38-7221-4801-8e56-2c6282c5a15a.dcm</td>\n",
       "      <td>1</td>\n",
       "      <td>0.139</td>\n",
       "      <td>0</td>\n",
       "      <td>255</td>\n",
       "      <td>115.408527</td>\n",
       "      <td>44.381174</td>\n",
       "      <td>0.172150</td>\n",
       "    </tr>\n",
       "    <tr>\n",
       "      <th>4</th>\n",
       "      <td>ISO_IR 100</td>\n",
       "      <td>1.2.840.10008.5.1.4.1.1.7</td>\n",
       "      <td>1.2.276.0.7230010.3.1.4.8323329.2009.1517874294.14621</td>\n",
       "      <td>19010101</td>\n",
       "      <td>000000.00</td>\n",
       "      <td></td>\n",
       "      <td>CR</td>\n",
       "      <td>WSD</td>\n",
       "      <td></td>\n",
       "      <td>view: AP</td>\n",
       "      <td>1ec51b9a-c8bf-42ee-af6b-26081365724a</td>\n",
       "      <td>1ec51b9a-c8bf-42ee-af6b-26081365724a</td>\n",
       "      <td></td>\n",
       "      <td>M</td>\n",
       "      <td>41</td>\n",
       "      <td>CHEST</td>\n",
       "      <td>AP</td>\n",
       "      <td>1.2.276.0.7230010.3.1.2.8323329.2009.1517874294.14620</td>\n",
       "      <td>1.2.276.0.7230010.3.1.3.8323329.2009.1517874294.14619</td>\n",
       "      <td></td>\n",
       "      <td>1</td>\n",
       "      <td>1</td>\n",
       "      <td></td>\n",
       "      <td>1</td>\n",
       "      <td>MONOCHROME2</td>\n",
       "      <td>1024</td>\n",
       "      <td>1024</td>\n",
       "      <td>0.168</td>\n",
       "      <td>8</td>\n",
       "      <td>8</td>\n",
       "      <td>7</td>\n",
       "      <td>0</td>\n",
       "      <td>01</td>\n",
       "      <td>ISO_10918_1</td>\n",
       "      <td>../input/rsna/stage_2_test_images/1ec51b9a-c8bf-42ee-af6b-26081365724a.dcm</td>\n",
       "      <td>1</td>\n",
       "      <td>0.168</td>\n",
       "      <td>0</td>\n",
       "      <td>220</td>\n",
       "      <td>109.716052</td>\n",
       "      <td>52.556474</td>\n",
       "      <td>0.262918</td>\n",
       "    </tr>\n",
       "  </tbody>\n",
       "</table>\n",
       "</div>"
      ],
      "text/plain": [
       "  SpecificCharacterSet                SOPClassUID  ...    img_std img_pct_window\n",
       "0           ISO_IR 100  1.2.840.10008.5.1.4.1.1.7  ...  55.647313       0.262469\n",
       "1           ISO_IR 100  1.2.840.10008.5.1.4.1.1.7  ...  47.309527       0.255092\n",
       "2           ISO_IR 100  1.2.840.10008.5.1.4.1.1.7  ...  56.174007       0.188134\n",
       "3           ISO_IR 100  1.2.840.10008.5.1.4.1.1.7  ...  44.381174       0.172150\n",
       "4           ISO_IR 100  1.2.840.10008.5.1.4.1.1.7  ...  52.556474       0.262918\n",
       "\n",
       "[5 rows x 42 columns]"
      ]
     },
     "execution_count": 49,
     "metadata": {
      "tags": []
     },
     "output_type": "execute_result"
    }
   ],
   "source": [
    "# Creating a Data Frame to store Test Image Metadata\n",
    "df_tst = pd.DataFrame.from_dicoms(fns_tst, px_summ=True)\n",
    "#df_tst.to_feather('df_tst.fth')\n",
    "df_tst.head()"
   ]
  },
  {
   "cell_type": "code",
   "execution_count": 0,
   "metadata": {
    "colab": {
     "base_uri": "https://localhost:8080/",
     "height": 850
    },
    "colab_type": "code",
    "id": "1qyEkq-FghWJ",
    "outputId": "82dadadb-2444-44e6-9f0a-14b8498b316a"
   },
   "outputs": [
    {
     "name": "stdout",
     "output_type": "stream",
     "text": [
      "<class 'pandas.core.frame.DataFrame'>\n",
      "RangeIndex: 3000 entries, 0 to 2999\n",
      "Data columns (total 42 columns):\n",
      " #   Column                       Non-Null Count  Dtype  \n",
      "---  ------                       --------------  -----  \n",
      " 0   SpecificCharacterSet         3000 non-null   object \n",
      " 1   SOPClassUID                  3000 non-null   object \n",
      " 2   SOPInstanceUID               3000 non-null   object \n",
      " 3   StudyDate                    3000 non-null   object \n",
      " 4   StudyTime                    3000 non-null   object \n",
      " 5   AccessionNumber              3000 non-null   object \n",
      " 6   Modality                     3000 non-null   object \n",
      " 7   ConversionType               3000 non-null   object \n",
      " 8   ReferringPhysicianName       3000 non-null   object \n",
      " 9   SeriesDescription            3000 non-null   object \n",
      " 10  PatientName                  3000 non-null   object \n",
      " 11  PatientID                    3000 non-null   object \n",
      " 12  PatientBirthDate             3000 non-null   object \n",
      " 13  PatientSex                   3000 non-null   object \n",
      " 14  PatientAge                   3000 non-null   object \n",
      " 15  BodyPartExamined             3000 non-null   object \n",
      " 16  ViewPosition                 3000 non-null   object \n",
      " 17  StudyInstanceUID             3000 non-null   object \n",
      " 18  SeriesInstanceUID            3000 non-null   object \n",
      " 19  StudyID                      3000 non-null   object \n",
      " 20  SeriesNumber                 3000 non-null   int64  \n",
      " 21  InstanceNumber               3000 non-null   int64  \n",
      " 22  PatientOrientation           3000 non-null   object \n",
      " 23  SamplesPerPixel              3000 non-null   int64  \n",
      " 24  PhotometricInterpretation    3000 non-null   object \n",
      " 25  Rows                         3000 non-null   int64  \n",
      " 26  Columns                      3000 non-null   int64  \n",
      " 27  PixelSpacing                 3000 non-null   float64\n",
      " 28  BitsAllocated                3000 non-null   int64  \n",
      " 29  BitsStored                   3000 non-null   int64  \n",
      " 30  HighBit                      3000 non-null   int64  \n",
      " 31  PixelRepresentation          3000 non-null   int64  \n",
      " 32  LossyImageCompression        3000 non-null   object \n",
      " 33  LossyImageCompressionMethod  3000 non-null   object \n",
      " 34  fname                        3000 non-null   object \n",
      " 35  MultiPixelSpacing            3000 non-null   int64  \n",
      " 36  PixelSpacing1                3000 non-null   float64\n",
      " 37  img_min                      3000 non-null   int64  \n",
      " 38  img_max                      3000 non-null   int64  \n",
      " 39  img_mean                     3000 non-null   float64\n",
      " 40  img_std                      3000 non-null   float64\n",
      " 41  img_pct_window               3000 non-null   float64\n",
      "dtypes: float64(5), int64(12), object(25)\n",
      "memory usage: 984.5+ KB\n"
     ]
    }
   ],
   "source": [
    "df_tst.info()"
   ]
  },
  {
   "cell_type": "code",
   "execution_count": 0,
   "metadata": {
    "colab": {
     "base_uri": "https://localhost:8080/",
     "height": 479
    },
    "colab_type": "code",
    "id": "P7pQlfR-sIpB",
    "outputId": "52e055f9-835b-42ec-e312-5f1afb48f47d"
   },
   "outputs": [
    {
     "data": {
      "text/html": [],
      "text/plain": [
       "<IPython.core.display.HTML object>"
      ]
     },
     "metadata": {
      "tags": []
     },
     "output_type": "display_data"
    },
    {
     "data": {
      "text/html": [
       "<div>\n",
       "<style scoped>\n",
       "    .dataframe tbody tr th:only-of-type {\n",
       "        vertical-align: middle;\n",
       "    }\n",
       "\n",
       "    .dataframe tbody tr th {\n",
       "        vertical-align: top;\n",
       "    }\n",
       "\n",
       "    .dataframe thead th {\n",
       "        text-align: right;\n",
       "    }\n",
       "</style>\n",
       "<table border=\"1\" class=\"dataframe\">\n",
       "  <thead>\n",
       "    <tr style=\"text-align: right;\">\n",
       "      <th></th>\n",
       "      <th>SpecificCharacterSet</th>\n",
       "      <th>SOPClassUID</th>\n",
       "      <th>SOPInstanceUID</th>\n",
       "      <th>StudyDate</th>\n",
       "      <th>StudyTime</th>\n",
       "      <th>AccessionNumber</th>\n",
       "      <th>Modality</th>\n",
       "      <th>ConversionType</th>\n",
       "      <th>ReferringPhysicianName</th>\n",
       "      <th>SeriesDescription</th>\n",
       "      <th>PatientName</th>\n",
       "      <th>PatientID</th>\n",
       "      <th>PatientBirthDate</th>\n",
       "      <th>PatientSex</th>\n",
       "      <th>PatientAge</th>\n",
       "      <th>BodyPartExamined</th>\n",
       "      <th>ViewPosition</th>\n",
       "      <th>StudyInstanceUID</th>\n",
       "      <th>SeriesInstanceUID</th>\n",
       "      <th>StudyID</th>\n",
       "      <th>SeriesNumber</th>\n",
       "      <th>InstanceNumber</th>\n",
       "      <th>PatientOrientation</th>\n",
       "      <th>SamplesPerPixel</th>\n",
       "      <th>PhotometricInterpretation</th>\n",
       "      <th>Rows</th>\n",
       "      <th>Columns</th>\n",
       "      <th>PixelSpacing</th>\n",
       "      <th>BitsAllocated</th>\n",
       "      <th>BitsStored</th>\n",
       "      <th>HighBit</th>\n",
       "      <th>PixelRepresentation</th>\n",
       "      <th>LossyImageCompression</th>\n",
       "      <th>LossyImageCompressionMethod</th>\n",
       "      <th>fname</th>\n",
       "      <th>MultiPixelSpacing</th>\n",
       "      <th>PixelSpacing1</th>\n",
       "      <th>img_min</th>\n",
       "      <th>img_max</th>\n",
       "      <th>img_mean</th>\n",
       "      <th>img_std</th>\n",
       "      <th>img_pct_window</th>\n",
       "    </tr>\n",
       "  </thead>\n",
       "  <tbody>\n",
       "    <tr>\n",
       "      <th>0</th>\n",
       "      <td>ISO_IR 100</td>\n",
       "      <td>1.2.840.10008.5.1.4.1.1.7</td>\n",
       "      <td>1.2.276.0.7230010.3.1.4.8323329.18067.1517874408.375750</td>\n",
       "      <td>19010101</td>\n",
       "      <td>000000.00</td>\n",
       "      <td></td>\n",
       "      <td>CR</td>\n",
       "      <td>WSD</td>\n",
       "      <td></td>\n",
       "      <td>view: PA</td>\n",
       "      <td>cb30c3d6-cb5c-4d23-ad41-0340c50b30f5</td>\n",
       "      <td>cb30c3d6-cb5c-4d23-ad41-0340c50b30f5</td>\n",
       "      <td></td>\n",
       "      <td>M</td>\n",
       "      <td>45</td>\n",
       "      <td>CHEST</td>\n",
       "      <td>PA</td>\n",
       "      <td>1.2.276.0.7230010.3.1.2.8323329.18067.1517874408.375749</td>\n",
       "      <td>1.2.276.0.7230010.3.1.3.8323329.18067.1517874408.375748</td>\n",
       "      <td></td>\n",
       "      <td>1</td>\n",
       "      <td>1</td>\n",
       "      <td></td>\n",
       "      <td>1</td>\n",
       "      <td>MONOCHROME2</td>\n",
       "      <td>1024</td>\n",
       "      <td>1024</td>\n",
       "      <td>0.171</td>\n",
       "      <td>8</td>\n",
       "      <td>8</td>\n",
       "      <td>7</td>\n",
       "      <td>0</td>\n",
       "      <td>01</td>\n",
       "      <td>ISO_10918_1</td>\n",
       "      <td>../input/rsna/stage_2_train_images/cb30c3d6-cb5c-4d23-ad41-0340c50b30f5.dcm</td>\n",
       "      <td>1</td>\n",
       "      <td>0.171</td>\n",
       "      <td>0</td>\n",
       "      <td>236</td>\n",
       "      <td>170.041242</td>\n",
       "      <td>30.265313</td>\n",
       "      <td>0.010004</td>\n",
       "    </tr>\n",
       "    <tr>\n",
       "      <th>1</th>\n",
       "      <td>ISO_IR 100</td>\n",
       "      <td>1.2.840.10008.5.1.4.1.1.7</td>\n",
       "      <td>1.2.276.0.7230010.3.1.4.8323329.2724.1517874298.108087</td>\n",
       "      <td>19010101</td>\n",
       "      <td>000000.00</td>\n",
       "      <td></td>\n",
       "      <td>CR</td>\n",
       "      <td>WSD</td>\n",
       "      <td></td>\n",
       "      <td>view: PA</td>\n",
       "      <td>d0ebe778-257e-46e9-be12-0274a344a274</td>\n",
       "      <td>d0ebe778-257e-46e9-be12-0274a344a274</td>\n",
       "      <td></td>\n",
       "      <td>F</td>\n",
       "      <td>65</td>\n",
       "      <td>CHEST</td>\n",
       "      <td>PA</td>\n",
       "      <td>1.2.276.0.7230010.3.1.2.8323329.2724.1517874298.108086</td>\n",
       "      <td>1.2.276.0.7230010.3.1.3.8323329.2724.1517874298.108085</td>\n",
       "      <td></td>\n",
       "      <td>1</td>\n",
       "      <td>1</td>\n",
       "      <td></td>\n",
       "      <td>1</td>\n",
       "      <td>MONOCHROME2</td>\n",
       "      <td>1024</td>\n",
       "      <td>1024</td>\n",
       "      <td>0.168</td>\n",
       "      <td>8</td>\n",
       "      <td>8</td>\n",
       "      <td>7</td>\n",
       "      <td>0</td>\n",
       "      <td>01</td>\n",
       "      <td>ISO_10918_1</td>\n",
       "      <td>../input/rsna/stage_2_train_images/d0ebe778-257e-46e9-be12-0274a344a274.dcm</td>\n",
       "      <td>1</td>\n",
       "      <td>0.168</td>\n",
       "      <td>0</td>\n",
       "      <td>253</td>\n",
       "      <td>143.153101</td>\n",
       "      <td>73.808176</td>\n",
       "      <td>0.222342</td>\n",
       "    </tr>\n",
       "    <tr>\n",
       "      <th>2</th>\n",
       "      <td>ISO_IR 100</td>\n",
       "      <td>1.2.840.10008.5.1.4.1.1.7</td>\n",
       "      <td>1.2.276.0.7230010.3.1.4.8323329.5095.1517874311.352810</td>\n",
       "      <td>19010101</td>\n",
       "      <td>000000.00</td>\n",
       "      <td></td>\n",
       "      <td>CR</td>\n",
       "      <td>WSD</td>\n",
       "      <td></td>\n",
       "      <td>view: AP</td>\n",
       "      <td>a155c5e3-7c43-4971-9acc-aa16fb923cfa</td>\n",
       "      <td>a155c5e3-7c43-4971-9acc-aa16fb923cfa</td>\n",
       "      <td></td>\n",
       "      <td>M</td>\n",
       "      <td>21</td>\n",
       "      <td>CHEST</td>\n",
       "      <td>AP</td>\n",
       "      <td>1.2.276.0.7230010.3.1.2.8323329.5095.1517874311.352809</td>\n",
       "      <td>1.2.276.0.7230010.3.1.3.8323329.5095.1517874311.352808</td>\n",
       "      <td></td>\n",
       "      <td>1</td>\n",
       "      <td>1</td>\n",
       "      <td></td>\n",
       "      <td>1</td>\n",
       "      <td>MONOCHROME2</td>\n",
       "      <td>1024</td>\n",
       "      <td>1024</td>\n",
       "      <td>0.139</td>\n",
       "      <td>8</td>\n",
       "      <td>8</td>\n",
       "      <td>7</td>\n",
       "      <td>0</td>\n",
       "      <td>01</td>\n",
       "      <td>ISO_10918_1</td>\n",
       "      <td>../input/rsna/stage_2_train_images/a155c5e3-7c43-4971-9acc-aa16fb923cfa.dcm</td>\n",
       "      <td>1</td>\n",
       "      <td>0.139</td>\n",
       "      <td>0</td>\n",
       "      <td>255</td>\n",
       "      <td>122.226710</td>\n",
       "      <td>51.236828</td>\n",
       "      <td>0.222688</td>\n",
       "    </tr>\n",
       "    <tr>\n",
       "      <th>3</th>\n",
       "      <td>ISO_IR 100</td>\n",
       "      <td>1.2.840.10008.5.1.4.1.1.7</td>\n",
       "      <td>1.2.276.0.7230010.3.1.4.8323329.10731.1517874353.749938</td>\n",
       "      <td>19010101</td>\n",
       "      <td>000000.00</td>\n",
       "      <td></td>\n",
       "      <td>CR</td>\n",
       "      <td>WSD</td>\n",
       "      <td></td>\n",
       "      <td>view: AP</td>\n",
       "      <td>6f0aa949-7f96-4fad-a852-4224a159834b</td>\n",
       "      <td>6f0aa949-7f96-4fad-a852-4224a159834b</td>\n",
       "      <td></td>\n",
       "      <td>F</td>\n",
       "      <td>41</td>\n",
       "      <td>CHEST</td>\n",
       "      <td>AP</td>\n",
       "      <td>1.2.276.0.7230010.3.1.2.8323329.10731.1517874353.749937</td>\n",
       "      <td>1.2.276.0.7230010.3.1.3.8323329.10731.1517874353.749936</td>\n",
       "      <td></td>\n",
       "      <td>1</td>\n",
       "      <td>1</td>\n",
       "      <td></td>\n",
       "      <td>1</td>\n",
       "      <td>MONOCHROME2</td>\n",
       "      <td>1024</td>\n",
       "      <td>1024</td>\n",
       "      <td>0.168</td>\n",
       "      <td>8</td>\n",
       "      <td>8</td>\n",
       "      <td>7</td>\n",
       "      <td>0</td>\n",
       "      <td>01</td>\n",
       "      <td>ISO_10918_1</td>\n",
       "      <td>../input/rsna/stage_2_train_images/6f0aa949-7f96-4fad-a852-4224a159834b.dcm</td>\n",
       "      <td>1</td>\n",
       "      <td>0.168</td>\n",
       "      <td>3</td>\n",
       "      <td>236</td>\n",
       "      <td>165.246969</td>\n",
       "      <td>36.832569</td>\n",
       "      <td>0.033782</td>\n",
       "    </tr>\n",
       "    <tr>\n",
       "      <th>4</th>\n",
       "      <td>ISO_IR 100</td>\n",
       "      <td>1.2.840.10008.5.1.4.1.1.7</td>\n",
       "      <td>1.2.276.0.7230010.3.1.4.8323329.16592.1517874398.438468</td>\n",
       "      <td>19010101</td>\n",
       "      <td>000000.00</td>\n",
       "      <td></td>\n",
       "      <td>CR</td>\n",
       "      <td>WSD</td>\n",
       "      <td></td>\n",
       "      <td>view: PA</td>\n",
       "      <td>9f756055-99fc-4a80-97b4-f89f98cf92d2</td>\n",
       "      <td>9f756055-99fc-4a80-97b4-f89f98cf92d2</td>\n",
       "      <td></td>\n",
       "      <td>M</td>\n",
       "      <td>50</td>\n",
       "      <td>CHEST</td>\n",
       "      <td>PA</td>\n",
       "      <td>1.2.276.0.7230010.3.1.2.8323329.16592.1517874398.438467</td>\n",
       "      <td>1.2.276.0.7230010.3.1.3.8323329.16592.1517874398.438466</td>\n",
       "      <td></td>\n",
       "      <td>1</td>\n",
       "      <td>1</td>\n",
       "      <td></td>\n",
       "      <td>1</td>\n",
       "      <td>MONOCHROME2</td>\n",
       "      <td>1024</td>\n",
       "      <td>1024</td>\n",
       "      <td>0.168</td>\n",
       "      <td>8</td>\n",
       "      <td>8</td>\n",
       "      <td>7</td>\n",
       "      <td>0</td>\n",
       "      <td>01</td>\n",
       "      <td>ISO_10918_1</td>\n",
       "      <td>../input/rsna/stage_2_train_images/9f756055-99fc-4a80-97b4-f89f98cf92d2.dcm</td>\n",
       "      <td>1</td>\n",
       "      <td>0.168</td>\n",
       "      <td>0</td>\n",
       "      <td>255</td>\n",
       "      <td>189.257056</td>\n",
       "      <td>62.719448</td>\n",
       "      <td>0.016612</td>\n",
       "    </tr>\n",
       "  </tbody>\n",
       "</table>\n",
       "</div>"
      ],
      "text/plain": [
       "  SpecificCharacterSet                SOPClassUID  ...    img_std img_pct_window\n",
       "0           ISO_IR 100  1.2.840.10008.5.1.4.1.1.7  ...  30.265313       0.010004\n",
       "1           ISO_IR 100  1.2.840.10008.5.1.4.1.1.7  ...  73.808176       0.222342\n",
       "2           ISO_IR 100  1.2.840.10008.5.1.4.1.1.7  ...  51.236828       0.222688\n",
       "3           ISO_IR 100  1.2.840.10008.5.1.4.1.1.7  ...  36.832569       0.033782\n",
       "4           ISO_IR 100  1.2.840.10008.5.1.4.1.1.7  ...  62.719448       0.016612\n",
       "\n",
       "[5 rows x 42 columns]"
      ]
     },
     "execution_count": 50,
     "metadata": {
      "tags": []
     },
     "output_type": "execute_result"
    }
   ],
   "source": [
    "# Creating a Data Frame to store Train Image Metadata\n",
    "df_trn = pd.DataFrame.from_dicoms(fns_trn, px_summ=True)\n",
    "# df_trn.to_feather('df_trn.fth')\n",
    "df_trn.head()"
   ]
  },
  {
   "cell_type": "code",
   "execution_count": 0,
   "metadata": {
    "colab": {
     "base_uri": "https://localhost:8080/",
     "height": 576
    },
    "colab_type": "code",
    "id": "Je8g9Q07IcPl",
    "outputId": "a53e6341-7405-4325-f778-712c9b6259a3"
   },
   "outputs": [
    {
     "data": {
      "text/html": [
       "<div>\n",
       "<style scoped>\n",
       "    .dataframe tbody tr th:only-of-type {\n",
       "        vertical-align: middle;\n",
       "    }\n",
       "\n",
       "    .dataframe tbody tr th {\n",
       "        vertical-align: top;\n",
       "    }\n",
       "\n",
       "    .dataframe thead th {\n",
       "        text-align: right;\n",
       "    }\n",
       "</style>\n",
       "<table border=\"1\" class=\"dataframe\">\n",
       "  <thead>\n",
       "    <tr style=\"text-align: right;\">\n",
       "      <th></th>\n",
       "      <th>count</th>\n",
       "      <th>mean</th>\n",
       "      <th>std</th>\n",
       "      <th>min</th>\n",
       "      <th>25%</th>\n",
       "      <th>50%</th>\n",
       "      <th>75%</th>\n",
       "      <th>max</th>\n",
       "    </tr>\n",
       "  </thead>\n",
       "  <tbody>\n",
       "    <tr>\n",
       "      <th>SeriesNumber</th>\n",
       "      <td>26684.0</td>\n",
       "      <td>1.000000</td>\n",
       "      <td>0.000000</td>\n",
       "      <td>1.000000</td>\n",
       "      <td>1.000000</td>\n",
       "      <td>1.000000</td>\n",
       "      <td>1.000000</td>\n",
       "      <td>1.000000</td>\n",
       "    </tr>\n",
       "    <tr>\n",
       "      <th>InstanceNumber</th>\n",
       "      <td>26684.0</td>\n",
       "      <td>1.000000</td>\n",
       "      <td>0.000000</td>\n",
       "      <td>1.000000</td>\n",
       "      <td>1.000000</td>\n",
       "      <td>1.000000</td>\n",
       "      <td>1.000000</td>\n",
       "      <td>1.000000</td>\n",
       "    </tr>\n",
       "    <tr>\n",
       "      <th>SamplesPerPixel</th>\n",
       "      <td>26684.0</td>\n",
       "      <td>1.000000</td>\n",
       "      <td>0.000000</td>\n",
       "      <td>1.000000</td>\n",
       "      <td>1.000000</td>\n",
       "      <td>1.000000</td>\n",
       "      <td>1.000000</td>\n",
       "      <td>1.000000</td>\n",
       "    </tr>\n",
       "    <tr>\n",
       "      <th>Rows</th>\n",
       "      <td>26684.0</td>\n",
       "      <td>1024.000000</td>\n",
       "      <td>0.000000</td>\n",
       "      <td>1024.000000</td>\n",
       "      <td>1024.000000</td>\n",
       "      <td>1024.000000</td>\n",
       "      <td>1024.000000</td>\n",
       "      <td>1024.000000</td>\n",
       "    </tr>\n",
       "    <tr>\n",
       "      <th>Columns</th>\n",
       "      <td>26684.0</td>\n",
       "      <td>1024.000000</td>\n",
       "      <td>0.000000</td>\n",
       "      <td>1024.000000</td>\n",
       "      <td>1024.000000</td>\n",
       "      <td>1024.000000</td>\n",
       "      <td>1024.000000</td>\n",
       "      <td>1024.000000</td>\n",
       "    </tr>\n",
       "    <tr>\n",
       "      <th>PixelSpacing</th>\n",
       "      <td>26684.0</td>\n",
       "      <td>0.155136</td>\n",
       "      <td>0.015991</td>\n",
       "      <td>0.115000</td>\n",
       "      <td>0.143000</td>\n",
       "      <td>0.143000</td>\n",
       "      <td>0.168000</td>\n",
       "      <td>0.198800</td>\n",
       "    </tr>\n",
       "    <tr>\n",
       "      <th>BitsAllocated</th>\n",
       "      <td>26684.0</td>\n",
       "      <td>8.000000</td>\n",
       "      <td>0.000000</td>\n",
       "      <td>8.000000</td>\n",
       "      <td>8.000000</td>\n",
       "      <td>8.000000</td>\n",
       "      <td>8.000000</td>\n",
       "      <td>8.000000</td>\n",
       "    </tr>\n",
       "    <tr>\n",
       "      <th>BitsStored</th>\n",
       "      <td>26684.0</td>\n",
       "      <td>8.000000</td>\n",
       "      <td>0.000000</td>\n",
       "      <td>8.000000</td>\n",
       "      <td>8.000000</td>\n",
       "      <td>8.000000</td>\n",
       "      <td>8.000000</td>\n",
       "      <td>8.000000</td>\n",
       "    </tr>\n",
       "    <tr>\n",
       "      <th>HighBit</th>\n",
       "      <td>26684.0</td>\n",
       "      <td>7.000000</td>\n",
       "      <td>0.000000</td>\n",
       "      <td>7.000000</td>\n",
       "      <td>7.000000</td>\n",
       "      <td>7.000000</td>\n",
       "      <td>7.000000</td>\n",
       "      <td>7.000000</td>\n",
       "    </tr>\n",
       "    <tr>\n",
       "      <th>PixelRepresentation</th>\n",
       "      <td>26684.0</td>\n",
       "      <td>0.000000</td>\n",
       "      <td>0.000000</td>\n",
       "      <td>0.000000</td>\n",
       "      <td>0.000000</td>\n",
       "      <td>0.000000</td>\n",
       "      <td>0.000000</td>\n",
       "      <td>0.000000</td>\n",
       "    </tr>\n",
       "    <tr>\n",
       "      <th>MultiPixelSpacing</th>\n",
       "      <td>26684.0</td>\n",
       "      <td>1.000000</td>\n",
       "      <td>0.000000</td>\n",
       "      <td>1.000000</td>\n",
       "      <td>1.000000</td>\n",
       "      <td>1.000000</td>\n",
       "      <td>1.000000</td>\n",
       "      <td>1.000000</td>\n",
       "    </tr>\n",
       "    <tr>\n",
       "      <th>PixelSpacing1</th>\n",
       "      <td>26684.0</td>\n",
       "      <td>0.155136</td>\n",
       "      <td>0.015991</td>\n",
       "      <td>0.115000</td>\n",
       "      <td>0.143000</td>\n",
       "      <td>0.143000</td>\n",
       "      <td>0.168000</td>\n",
       "      <td>0.198800</td>\n",
       "    </tr>\n",
       "    <tr>\n",
       "      <th>img_min</th>\n",
       "      <td>26684.0</td>\n",
       "      <td>0.379928</td>\n",
       "      <td>2.169367</td>\n",
       "      <td>0.000000</td>\n",
       "      <td>0.000000</td>\n",
       "      <td>0.000000</td>\n",
       "      <td>0.000000</td>\n",
       "      <td>95.000000</td>\n",
       "    </tr>\n",
       "    <tr>\n",
       "      <th>img_max</th>\n",
       "      <td>26684.0</td>\n",
       "      <td>247.998014</td>\n",
       "      <td>14.061758</td>\n",
       "      <td>146.000000</td>\n",
       "      <td>246.000000</td>\n",
       "      <td>255.000000</td>\n",
       "      <td>255.000000</td>\n",
       "      <td>255.000000</td>\n",
       "    </tr>\n",
       "    <tr>\n",
       "      <th>img_mean</th>\n",
       "      <td>26684.0</td>\n",
       "      <td>124.978564</td>\n",
       "      <td>21.608709</td>\n",
       "      <td>26.417231</td>\n",
       "      <td>110.457151</td>\n",
       "      <td>120.337328</td>\n",
       "      <td>137.178996</td>\n",
       "      <td>229.147834</td>\n",
       "    </tr>\n",
       "    <tr>\n",
       "      <th>img_std</th>\n",
       "      <td>26684.0</td>\n",
       "      <td>58.479429</td>\n",
       "      <td>10.868785</td>\n",
       "      <td>18.836551</td>\n",
       "      <td>50.992112</td>\n",
       "      <td>59.926602</td>\n",
       "      <td>67.092306</td>\n",
       "      <td>99.117195</td>\n",
       "    </tr>\n",
       "    <tr>\n",
       "      <th>img_pct_window</th>\n",
       "      <td>26684.0</td>\n",
       "      <td>0.217024</td>\n",
       "      <td>0.099809</td>\n",
       "      <td>0.000000</td>\n",
       "      <td>0.144332</td>\n",
       "      <td>0.218521</td>\n",
       "      <td>0.281518</td>\n",
       "      <td>0.919351</td>\n",
       "    </tr>\n",
       "  </tbody>\n",
       "</table>\n",
       "</div>"
      ],
      "text/plain": [
       "                       count         mean  ...          75%          max\n",
       "SeriesNumber         26684.0     1.000000  ...     1.000000     1.000000\n",
       "InstanceNumber       26684.0     1.000000  ...     1.000000     1.000000\n",
       "SamplesPerPixel      26684.0     1.000000  ...     1.000000     1.000000\n",
       "Rows                 26684.0  1024.000000  ...  1024.000000  1024.000000\n",
       "Columns              26684.0  1024.000000  ...  1024.000000  1024.000000\n",
       "PixelSpacing         26684.0     0.155136  ...     0.168000     0.198800\n",
       "BitsAllocated        26684.0     8.000000  ...     8.000000     8.000000\n",
       "BitsStored           26684.0     8.000000  ...     8.000000     8.000000\n",
       "HighBit              26684.0     7.000000  ...     7.000000     7.000000\n",
       "PixelRepresentation  26684.0     0.000000  ...     0.000000     0.000000\n",
       "MultiPixelSpacing    26684.0     1.000000  ...     1.000000     1.000000\n",
       "PixelSpacing1        26684.0     0.155136  ...     0.168000     0.198800\n",
       "img_min              26684.0     0.379928  ...     0.000000    95.000000\n",
       "img_max              26684.0   247.998014  ...   255.000000   255.000000\n",
       "img_mean             26684.0   124.978564  ...   137.178996   229.147834\n",
       "img_std              26684.0    58.479429  ...    67.092306    99.117195\n",
       "img_pct_window       26684.0     0.217024  ...     0.281518     0.919351\n",
       "\n",
       "[17 rows x 8 columns]"
      ]
     },
     "execution_count": 51,
     "metadata": {
      "tags": []
     },
     "output_type": "execute_result"
    }
   ],
   "source": [
    "df_trn.describe().T"
   ]
  },
  {
   "cell_type": "code",
   "execution_count": 0,
   "metadata": {
    "colab": {
     "base_uri": "https://localhost:8080/",
     "height": 850
    },
    "colab_type": "code",
    "id": "W4RMGeJ5JKUE",
    "outputId": "48d3dcb9-75c3-4bcb-8fb5-b06d82f2cbf7"
   },
   "outputs": [
    {
     "name": "stdout",
     "output_type": "stream",
     "text": [
      "<class 'pandas.core.frame.DataFrame'>\n",
      "RangeIndex: 26684 entries, 0 to 26683\n",
      "Data columns (total 42 columns):\n",
      " #   Column                       Non-Null Count  Dtype  \n",
      "---  ------                       --------------  -----  \n",
      " 0   SpecificCharacterSet         26684 non-null  object \n",
      " 1   SOPClassUID                  26684 non-null  object \n",
      " 2   SOPInstanceUID               26684 non-null  object \n",
      " 3   StudyDate                    26684 non-null  object \n",
      " 4   StudyTime                    26684 non-null  object \n",
      " 5   AccessionNumber              26684 non-null  object \n",
      " 6   Modality                     26684 non-null  object \n",
      " 7   ConversionType               26684 non-null  object \n",
      " 8   ReferringPhysicianName       26684 non-null  object \n",
      " 9   SeriesDescription            26684 non-null  object \n",
      " 10  PatientName                  26684 non-null  object \n",
      " 11  PatientID                    26684 non-null  object \n",
      " 12  PatientBirthDate             26684 non-null  object \n",
      " 13  PatientSex                   26684 non-null  object \n",
      " 14  PatientAge                   26684 non-null  object \n",
      " 15  BodyPartExamined             26684 non-null  object \n",
      " 16  ViewPosition                 26684 non-null  object \n",
      " 17  StudyInstanceUID             26684 non-null  object \n",
      " 18  SeriesInstanceUID            26684 non-null  object \n",
      " 19  StudyID                      26684 non-null  object \n",
      " 20  SeriesNumber                 26684 non-null  int64  \n",
      " 21  InstanceNumber               26684 non-null  int64  \n",
      " 22  PatientOrientation           26684 non-null  object \n",
      " 23  SamplesPerPixel              26684 non-null  int64  \n",
      " 24  PhotometricInterpretation    26684 non-null  object \n",
      " 25  Rows                         26684 non-null  int64  \n",
      " 26  Columns                      26684 non-null  int64  \n",
      " 27  PixelSpacing                 26684 non-null  float64\n",
      " 28  BitsAllocated                26684 non-null  int64  \n",
      " 29  BitsStored                   26684 non-null  int64  \n",
      " 30  HighBit                      26684 non-null  int64  \n",
      " 31  PixelRepresentation          26684 non-null  int64  \n",
      " 32  LossyImageCompression        26684 non-null  object \n",
      " 33  LossyImageCompressionMethod  26684 non-null  object \n",
      " 34  fname                        26684 non-null  object \n",
      " 35  MultiPixelSpacing            26684 non-null  int64  \n",
      " 36  PixelSpacing1                26684 non-null  float64\n",
      " 37  img_min                      26684 non-null  int64  \n",
      " 38  img_max                      26684 non-null  int64  \n",
      " 39  img_mean                     26684 non-null  float64\n",
      " 40  img_std                      26684 non-null  float64\n",
      " 41  img_pct_window               26684 non-null  float64\n",
      "dtypes: float64(5), int64(12), object(25)\n",
      "memory usage: 8.6+ MB\n"
     ]
    }
   ],
   "source": [
    "df_trn.info()"
   ]
  },
  {
   "cell_type": "code",
   "execution_count": 0,
   "metadata": {
    "colab": {},
    "colab_type": "code",
    "id": "GWjpxPTOR0OX"
   },
   "outputs": [],
   "source": [
    "# The the train_image and train_BBox tables\n",
    "comb = df_trn.join(lbls.set_index('PatientID'), 'PatientID')"
   ]
  },
  {
   "cell_type": "code",
   "execution_count": 0,
   "metadata": {
    "colab": {
     "base_uri": "https://localhost:8080/",
     "height": 1000
    },
    "colab_type": "code",
    "id": "ekzwQHPR3pop",
    "outputId": "e2292e45-6095-422a-a724-ea9d052e6567"
   },
   "outputs": [
    {
     "data": {
      "text/html": [
       "<div>\n",
       "<style scoped>\n",
       "    .dataframe tbody tr th:only-of-type {\n",
       "        vertical-align: middle;\n",
       "    }\n",
       "\n",
       "    .dataframe tbody tr th {\n",
       "        vertical-align: top;\n",
       "    }\n",
       "\n",
       "    .dataframe thead th {\n",
       "        text-align: right;\n",
       "    }\n",
       "</style>\n",
       "<table border=\"1\" class=\"dataframe\">\n",
       "  <thead>\n",
       "    <tr style=\"text-align: right;\">\n",
       "      <th></th>\n",
       "      <th>0</th>\n",
       "      <th>1</th>\n",
       "      <th>2</th>\n",
       "      <th>3</th>\n",
       "      <th>4</th>\n",
       "    </tr>\n",
       "  </thead>\n",
       "  <tbody>\n",
       "    <tr>\n",
       "      <th>SpecificCharacterSet</th>\n",
       "      <td>ISO_IR 100</td>\n",
       "      <td>ISO_IR 100</td>\n",
       "      <td>ISO_IR 100</td>\n",
       "      <td>ISO_IR 100</td>\n",
       "      <td>ISO_IR 100</td>\n",
       "    </tr>\n",
       "    <tr>\n",
       "      <th>SOPClassUID</th>\n",
       "      <td>1.2.840.10008.5.1.4.1.1.7</td>\n",
       "      <td>1.2.840.10008.5.1.4.1.1.7</td>\n",
       "      <td>1.2.840.10008.5.1.4.1.1.7</td>\n",
       "      <td>1.2.840.10008.5.1.4.1.1.7</td>\n",
       "      <td>1.2.840.10008.5.1.4.1.1.7</td>\n",
       "    </tr>\n",
       "    <tr>\n",
       "      <th>SOPInstanceUID</th>\n",
       "      <td>1.2.276.0.7230010.3.1.4.8323329.18067.1517874408.375750</td>\n",
       "      <td>1.2.276.0.7230010.3.1.4.8323329.2724.1517874298.108087</td>\n",
       "      <td>1.2.276.0.7230010.3.1.4.8323329.5095.1517874311.352810</td>\n",
       "      <td>1.2.276.0.7230010.3.1.4.8323329.10731.1517874353.749938</td>\n",
       "      <td>1.2.276.0.7230010.3.1.4.8323329.16592.1517874398.438468</td>\n",
       "    </tr>\n",
       "    <tr>\n",
       "      <th>StudyDate</th>\n",
       "      <td>19010101</td>\n",
       "      <td>19010101</td>\n",
       "      <td>19010101</td>\n",
       "      <td>19010101</td>\n",
       "      <td>19010101</td>\n",
       "    </tr>\n",
       "    <tr>\n",
       "      <th>StudyTime</th>\n",
       "      <td>000000.00</td>\n",
       "      <td>000000.00</td>\n",
       "      <td>000000.00</td>\n",
       "      <td>000000.00</td>\n",
       "      <td>000000.00</td>\n",
       "    </tr>\n",
       "    <tr>\n",
       "      <th>AccessionNumber</th>\n",
       "      <td></td>\n",
       "      <td></td>\n",
       "      <td></td>\n",
       "      <td></td>\n",
       "      <td></td>\n",
       "    </tr>\n",
       "    <tr>\n",
       "      <th>Modality</th>\n",
       "      <td>CR</td>\n",
       "      <td>CR</td>\n",
       "      <td>CR</td>\n",
       "      <td>CR</td>\n",
       "      <td>CR</td>\n",
       "    </tr>\n",
       "    <tr>\n",
       "      <th>ConversionType</th>\n",
       "      <td>WSD</td>\n",
       "      <td>WSD</td>\n",
       "      <td>WSD</td>\n",
       "      <td>WSD</td>\n",
       "      <td>WSD</td>\n",
       "    </tr>\n",
       "    <tr>\n",
       "      <th>ReferringPhysicianName</th>\n",
       "      <td></td>\n",
       "      <td></td>\n",
       "      <td></td>\n",
       "      <td></td>\n",
       "      <td></td>\n",
       "    </tr>\n",
       "    <tr>\n",
       "      <th>SeriesDescription</th>\n",
       "      <td>view: PA</td>\n",
       "      <td>view: PA</td>\n",
       "      <td>view: AP</td>\n",
       "      <td>view: AP</td>\n",
       "      <td>view: PA</td>\n",
       "    </tr>\n",
       "    <tr>\n",
       "      <th>PatientName</th>\n",
       "      <td>cb30c3d6-cb5c-4d23-ad41-0340c50b30f5</td>\n",
       "      <td>d0ebe778-257e-46e9-be12-0274a344a274</td>\n",
       "      <td>a155c5e3-7c43-4971-9acc-aa16fb923cfa</td>\n",
       "      <td>6f0aa949-7f96-4fad-a852-4224a159834b</td>\n",
       "      <td>9f756055-99fc-4a80-97b4-f89f98cf92d2</td>\n",
       "    </tr>\n",
       "    <tr>\n",
       "      <th>PatientID</th>\n",
       "      <td>cb30c3d6-cb5c-4d23-ad41-0340c50b30f5</td>\n",
       "      <td>d0ebe778-257e-46e9-be12-0274a344a274</td>\n",
       "      <td>a155c5e3-7c43-4971-9acc-aa16fb923cfa</td>\n",
       "      <td>6f0aa949-7f96-4fad-a852-4224a159834b</td>\n",
       "      <td>9f756055-99fc-4a80-97b4-f89f98cf92d2</td>\n",
       "    </tr>\n",
       "    <tr>\n",
       "      <th>PatientBirthDate</th>\n",
       "      <td></td>\n",
       "      <td></td>\n",
       "      <td></td>\n",
       "      <td></td>\n",
       "      <td></td>\n",
       "    </tr>\n",
       "    <tr>\n",
       "      <th>PatientSex</th>\n",
       "      <td>M</td>\n",
       "      <td>F</td>\n",
       "      <td>M</td>\n",
       "      <td>F</td>\n",
       "      <td>M</td>\n",
       "    </tr>\n",
       "    <tr>\n",
       "      <th>PatientAge</th>\n",
       "      <td>45</td>\n",
       "      <td>65</td>\n",
       "      <td>21</td>\n",
       "      <td>41</td>\n",
       "      <td>50</td>\n",
       "    </tr>\n",
       "    <tr>\n",
       "      <th>BodyPartExamined</th>\n",
       "      <td>CHEST</td>\n",
       "      <td>CHEST</td>\n",
       "      <td>CHEST</td>\n",
       "      <td>CHEST</td>\n",
       "      <td>CHEST</td>\n",
       "    </tr>\n",
       "    <tr>\n",
       "      <th>ViewPosition</th>\n",
       "      <td>PA</td>\n",
       "      <td>PA</td>\n",
       "      <td>AP</td>\n",
       "      <td>AP</td>\n",
       "      <td>PA</td>\n",
       "    </tr>\n",
       "    <tr>\n",
       "      <th>StudyInstanceUID</th>\n",
       "      <td>1.2.276.0.7230010.3.1.2.8323329.18067.1517874408.375749</td>\n",
       "      <td>1.2.276.0.7230010.3.1.2.8323329.2724.1517874298.108086</td>\n",
       "      <td>1.2.276.0.7230010.3.1.2.8323329.5095.1517874311.352809</td>\n",
       "      <td>1.2.276.0.7230010.3.1.2.8323329.10731.1517874353.749937</td>\n",
       "      <td>1.2.276.0.7230010.3.1.2.8323329.16592.1517874398.438467</td>\n",
       "    </tr>\n",
       "    <tr>\n",
       "      <th>SeriesInstanceUID</th>\n",
       "      <td>1.2.276.0.7230010.3.1.3.8323329.18067.1517874408.375748</td>\n",
       "      <td>1.2.276.0.7230010.3.1.3.8323329.2724.1517874298.108085</td>\n",
       "      <td>1.2.276.0.7230010.3.1.3.8323329.5095.1517874311.352808</td>\n",
       "      <td>1.2.276.0.7230010.3.1.3.8323329.10731.1517874353.749936</td>\n",
       "      <td>1.2.276.0.7230010.3.1.3.8323329.16592.1517874398.438466</td>\n",
       "    </tr>\n",
       "    <tr>\n",
       "      <th>StudyID</th>\n",
       "      <td></td>\n",
       "      <td></td>\n",
       "      <td></td>\n",
       "      <td></td>\n",
       "      <td></td>\n",
       "    </tr>\n",
       "    <tr>\n",
       "      <th>SeriesNumber</th>\n",
       "      <td>1</td>\n",
       "      <td>1</td>\n",
       "      <td>1</td>\n",
       "      <td>1</td>\n",
       "      <td>1</td>\n",
       "    </tr>\n",
       "    <tr>\n",
       "      <th>InstanceNumber</th>\n",
       "      <td>1</td>\n",
       "      <td>1</td>\n",
       "      <td>1</td>\n",
       "      <td>1</td>\n",
       "      <td>1</td>\n",
       "    </tr>\n",
       "    <tr>\n",
       "      <th>PatientOrientation</th>\n",
       "      <td></td>\n",
       "      <td></td>\n",
       "      <td></td>\n",
       "      <td></td>\n",
       "      <td></td>\n",
       "    </tr>\n",
       "    <tr>\n",
       "      <th>SamplesPerPixel</th>\n",
       "      <td>1</td>\n",
       "      <td>1</td>\n",
       "      <td>1</td>\n",
       "      <td>1</td>\n",
       "      <td>1</td>\n",
       "    </tr>\n",
       "    <tr>\n",
       "      <th>PhotometricInterpretation</th>\n",
       "      <td>MONOCHROME2</td>\n",
       "      <td>MONOCHROME2</td>\n",
       "      <td>MONOCHROME2</td>\n",
       "      <td>MONOCHROME2</td>\n",
       "      <td>MONOCHROME2</td>\n",
       "    </tr>\n",
       "    <tr>\n",
       "      <th>Rows</th>\n",
       "      <td>1024</td>\n",
       "      <td>1024</td>\n",
       "      <td>1024</td>\n",
       "      <td>1024</td>\n",
       "      <td>1024</td>\n",
       "    </tr>\n",
       "    <tr>\n",
       "      <th>Columns</th>\n",
       "      <td>1024</td>\n",
       "      <td>1024</td>\n",
       "      <td>1024</td>\n",
       "      <td>1024</td>\n",
       "      <td>1024</td>\n",
       "    </tr>\n",
       "    <tr>\n",
       "      <th>PixelSpacing</th>\n",
       "      <td>0.171</td>\n",
       "      <td>0.168</td>\n",
       "      <td>0.139</td>\n",
       "      <td>0.168</td>\n",
       "      <td>0.168</td>\n",
       "    </tr>\n",
       "    <tr>\n",
       "      <th>BitsAllocated</th>\n",
       "      <td>8</td>\n",
       "      <td>8</td>\n",
       "      <td>8</td>\n",
       "      <td>8</td>\n",
       "      <td>8</td>\n",
       "    </tr>\n",
       "    <tr>\n",
       "      <th>BitsStored</th>\n",
       "      <td>8</td>\n",
       "      <td>8</td>\n",
       "      <td>8</td>\n",
       "      <td>8</td>\n",
       "      <td>8</td>\n",
       "    </tr>\n",
       "    <tr>\n",
       "      <th>HighBit</th>\n",
       "      <td>7</td>\n",
       "      <td>7</td>\n",
       "      <td>7</td>\n",
       "      <td>7</td>\n",
       "      <td>7</td>\n",
       "    </tr>\n",
       "    <tr>\n",
       "      <th>PixelRepresentation</th>\n",
       "      <td>0</td>\n",
       "      <td>0</td>\n",
       "      <td>0</td>\n",
       "      <td>0</td>\n",
       "      <td>0</td>\n",
       "    </tr>\n",
       "    <tr>\n",
       "      <th>LossyImageCompression</th>\n",
       "      <td>01</td>\n",
       "      <td>01</td>\n",
       "      <td>01</td>\n",
       "      <td>01</td>\n",
       "      <td>01</td>\n",
       "    </tr>\n",
       "    <tr>\n",
       "      <th>LossyImageCompressionMethod</th>\n",
       "      <td>ISO_10918_1</td>\n",
       "      <td>ISO_10918_1</td>\n",
       "      <td>ISO_10918_1</td>\n",
       "      <td>ISO_10918_1</td>\n",
       "      <td>ISO_10918_1</td>\n",
       "    </tr>\n",
       "    <tr>\n",
       "      <th>fname</th>\n",
       "      <td>../input/rsna/stage_2_train_images/cb30c3d6-cb5c-4d23-ad41-0340c50b30f5.dcm</td>\n",
       "      <td>../input/rsna/stage_2_train_images/d0ebe778-257e-46e9-be12-0274a344a274.dcm</td>\n",
       "      <td>../input/rsna/stage_2_train_images/a155c5e3-7c43-4971-9acc-aa16fb923cfa.dcm</td>\n",
       "      <td>../input/rsna/stage_2_train_images/6f0aa949-7f96-4fad-a852-4224a159834b.dcm</td>\n",
       "      <td>../input/rsna/stage_2_train_images/9f756055-99fc-4a80-97b4-f89f98cf92d2.dcm</td>\n",
       "    </tr>\n",
       "    <tr>\n",
       "      <th>MultiPixelSpacing</th>\n",
       "      <td>1</td>\n",
       "      <td>1</td>\n",
       "      <td>1</td>\n",
       "      <td>1</td>\n",
       "      <td>1</td>\n",
       "    </tr>\n",
       "    <tr>\n",
       "      <th>PixelSpacing1</th>\n",
       "      <td>0.171</td>\n",
       "      <td>0.168</td>\n",
       "      <td>0.139</td>\n",
       "      <td>0.168</td>\n",
       "      <td>0.168</td>\n",
       "    </tr>\n",
       "    <tr>\n",
       "      <th>img_min</th>\n",
       "      <td>0</td>\n",
       "      <td>0</td>\n",
       "      <td>0</td>\n",
       "      <td>3</td>\n",
       "      <td>0</td>\n",
       "    </tr>\n",
       "    <tr>\n",
       "      <th>img_max</th>\n",
       "      <td>236</td>\n",
       "      <td>253</td>\n",
       "      <td>255</td>\n",
       "      <td>236</td>\n",
       "      <td>255</td>\n",
       "    </tr>\n",
       "    <tr>\n",
       "      <th>img_mean</th>\n",
       "      <td>170.041</td>\n",
       "      <td>143.153</td>\n",
       "      <td>122.227</td>\n",
       "      <td>165.247</td>\n",
       "      <td>189.257</td>\n",
       "    </tr>\n",
       "    <tr>\n",
       "      <th>img_std</th>\n",
       "      <td>30.2653</td>\n",
       "      <td>73.8082</td>\n",
       "      <td>51.2368</td>\n",
       "      <td>36.8326</td>\n",
       "      <td>62.7194</td>\n",
       "    </tr>\n",
       "    <tr>\n",
       "      <th>img_pct_window</th>\n",
       "      <td>0.010004</td>\n",
       "      <td>0.222342</td>\n",
       "      <td>0.222688</td>\n",
       "      <td>0.033782</td>\n",
       "      <td>0.0166121</td>\n",
       "    </tr>\n",
       "    <tr>\n",
       "      <th>x</th>\n",
       "      <td>NaN</td>\n",
       "      <td>NaN</td>\n",
       "      <td>NaN</td>\n",
       "      <td>NaN</td>\n",
       "      <td>66</td>\n",
       "    </tr>\n",
       "    <tr>\n",
       "      <th>y</th>\n",
       "      <td>NaN</td>\n",
       "      <td>NaN</td>\n",
       "      <td>NaN</td>\n",
       "      <td>NaN</td>\n",
       "      <td>397</td>\n",
       "    </tr>\n",
       "    <tr>\n",
       "      <th>width</th>\n",
       "      <td>NaN</td>\n",
       "      <td>NaN</td>\n",
       "      <td>NaN</td>\n",
       "      <td>NaN</td>\n",
       "      <td>327</td>\n",
       "    </tr>\n",
       "    <tr>\n",
       "      <th>height</th>\n",
       "      <td>NaN</td>\n",
       "      <td>NaN</td>\n",
       "      <td>NaN</td>\n",
       "      <td>NaN</td>\n",
       "      <td>299</td>\n",
       "    </tr>\n",
       "    <tr>\n",
       "      <th>Target</th>\n",
       "      <td>0</td>\n",
       "      <td>0</td>\n",
       "      <td>0</td>\n",
       "      <td>0</td>\n",
       "      <td>1</td>\n",
       "    </tr>\n",
       "  </tbody>\n",
       "</table>\n",
       "</div>"
      ],
      "text/plain": [
       "                                                                                                       0  ...                                                                            4\n",
       "SpecificCharacterSet                                                                          ISO_IR 100  ...                                                                   ISO_IR 100\n",
       "SOPClassUID                                                                    1.2.840.10008.5.1.4.1.1.7  ...                                                    1.2.840.10008.5.1.4.1.1.7\n",
       "SOPInstanceUID                                   1.2.276.0.7230010.3.1.4.8323329.18067.1517874408.375750  ...                      1.2.276.0.7230010.3.1.4.8323329.16592.1517874398.438468\n",
       "StudyDate                                                                                       19010101  ...                                                                     19010101\n",
       "StudyTime                                                                                      000000.00  ...                                                                    000000.00\n",
       "AccessionNumber                                                                                           ...                                                                             \n",
       "Modality                                                                                              CR  ...                                                                           CR\n",
       "ConversionType                                                                                       WSD  ...                                                                          WSD\n",
       "ReferringPhysicianName                                                                                    ...                                                                             \n",
       "SeriesDescription                                                                               view: PA  ...                                                                     view: PA\n",
       "PatientName                                                         cb30c3d6-cb5c-4d23-ad41-0340c50b30f5  ...                                         9f756055-99fc-4a80-97b4-f89f98cf92d2\n",
       "PatientID                                                           cb30c3d6-cb5c-4d23-ad41-0340c50b30f5  ...                                         9f756055-99fc-4a80-97b4-f89f98cf92d2\n",
       "PatientBirthDate                                                                                          ...                                                                             \n",
       "PatientSex                                                                                             M  ...                                                                            M\n",
       "PatientAge                                                                                            45  ...                                                                           50\n",
       "BodyPartExamined                                                                                   CHEST  ...                                                                        CHEST\n",
       "ViewPosition                                                                                          PA  ...                                                                           PA\n",
       "StudyInstanceUID                                 1.2.276.0.7230010.3.1.2.8323329.18067.1517874408.375749  ...                      1.2.276.0.7230010.3.1.2.8323329.16592.1517874398.438467\n",
       "SeriesInstanceUID                                1.2.276.0.7230010.3.1.3.8323329.18067.1517874408.375748  ...                      1.2.276.0.7230010.3.1.3.8323329.16592.1517874398.438466\n",
       "StudyID                                                                                                   ...                                                                             \n",
       "SeriesNumber                                                                                           1  ...                                                                            1\n",
       "InstanceNumber                                                                                         1  ...                                                                            1\n",
       "PatientOrientation                                                                                        ...                                                                             \n",
       "SamplesPerPixel                                                                                        1  ...                                                                            1\n",
       "PhotometricInterpretation                                                                    MONOCHROME2  ...                                                                  MONOCHROME2\n",
       "Rows                                                                                                1024  ...                                                                         1024\n",
       "Columns                                                                                             1024  ...                                                                         1024\n",
       "PixelSpacing                                                                                       0.171  ...                                                                        0.168\n",
       "BitsAllocated                                                                                          8  ...                                                                            8\n",
       "BitsStored                                                                                             8  ...                                                                            8\n",
       "HighBit                                                                                                7  ...                                                                            7\n",
       "PixelRepresentation                                                                                    0  ...                                                                            0\n",
       "LossyImageCompression                                                                                 01  ...                                                                           01\n",
       "LossyImageCompressionMethod                                                                  ISO_10918_1  ...                                                                  ISO_10918_1\n",
       "fname                        ../input/rsna/stage_2_train_images/cb30c3d6-cb5c-4d23-ad41-0340c50b30f5.dcm  ...  ../input/rsna/stage_2_train_images/9f756055-99fc-4a80-97b4-f89f98cf92d2.dcm\n",
       "MultiPixelSpacing                                                                                      1  ...                                                                            1\n",
       "PixelSpacing1                                                                                      0.171  ...                                                                        0.168\n",
       "img_min                                                                                                0  ...                                                                            0\n",
       "img_max                                                                                              236  ...                                                                          255\n",
       "img_mean                                                                                         170.041  ...                                                                      189.257\n",
       "img_std                                                                                          30.2653  ...                                                                      62.7194\n",
       "img_pct_window                                                                                  0.010004  ...                                                                    0.0166121\n",
       "x                                                                                                    NaN  ...                                                                           66\n",
       "y                                                                                                    NaN  ...                                                                          397\n",
       "width                                                                                                NaN  ...                                                                          327\n",
       "height                                                                                               NaN  ...                                                                          299\n",
       "Target                                                                                                 0  ...                                                                            1\n",
       "\n",
       "[47 rows x 5 columns]"
      ]
     },
     "execution_count": 55,
     "metadata": {
      "tags": []
     },
     "output_type": "execute_result"
    }
   ],
   "source": [
    "comb.head().T"
   ]
  },
  {
   "cell_type": "code",
   "execution_count": 0,
   "metadata": {
    "colab": {
     "base_uri": "https://localhost:8080/",
     "height": 833
    },
    "colab_type": "code",
    "id": "55niYfcde0SL",
    "outputId": "4c43676d-5bc0-4751-9641-82ccf8755c2e"
   },
   "outputs": [
    {
     "data": {
      "text/plain": [
       "SpecificCharacterSet           26684\n",
       "SOPClassUID                    26684\n",
       "SOPInstanceUID                 26684\n",
       "StudyDate                      26684\n",
       "StudyTime                      26684\n",
       "AccessionNumber                26684\n",
       "Modality                       26684\n",
       "ConversionType                 26684\n",
       "ReferringPhysicianName         26684\n",
       "SeriesDescription              26684\n",
       "PatientName                    26684\n",
       "PatientID                      26684\n",
       "PatientBirthDate               26684\n",
       "PatientSex                     26684\n",
       "PatientAge                     26684\n",
       "BodyPartExamined               26684\n",
       "ViewPosition                   26684\n",
       "StudyInstanceUID               26684\n",
       "SeriesInstanceUID              26684\n",
       "StudyID                        26684\n",
       "SeriesNumber                   26684\n",
       "InstanceNumber                 26684\n",
       "PatientOrientation             26684\n",
       "SamplesPerPixel                26684\n",
       "PhotometricInterpretation      26684\n",
       "Rows                           26684\n",
       "Columns                        26684\n",
       "PixelSpacing                   26684\n",
       "BitsAllocated                  26684\n",
       "BitsStored                     26684\n",
       "HighBit                        26684\n",
       "PixelRepresentation            26684\n",
       "LossyImageCompression          26684\n",
       "LossyImageCompressionMethod    26684\n",
       "fname                          26684\n",
       "MultiPixelSpacing              26684\n",
       "PixelSpacing1                  26684\n",
       "img_min                        26684\n",
       "img_max                        26684\n",
       "img_mean                       26684\n",
       "img_std                        26684\n",
       "img_pct_window                 26684\n",
       "x                               6012\n",
       "y                               6012\n",
       "width                           6012\n",
       "height                          6012\n",
       "Target                         26684\n",
       "dtype: int64"
      ]
     },
     "execution_count": 56,
     "metadata": {
      "tags": []
     },
     "output_type": "execute_result"
    }
   ],
   "source": [
    "comb.count()"
   ]
  },
  {
   "cell_type": "code",
   "execution_count": 0,
   "metadata": {
    "colab": {
     "base_uri": "https://localhost:8080/",
     "height": 111
    },
    "colab_type": "code",
    "id": "jvCKy5RWkvd9",
    "outputId": "f7541b71-95b8-475c-df62-14c2fd050483"
   },
   "outputs": [
    {
     "data": {
      "text/html": [
       "<div>\n",
       "<style scoped>\n",
       "    .dataframe tbody tr th:only-of-type {\n",
       "        vertical-align: middle;\n",
       "    }\n",
       "\n",
       "    .dataframe tbody tr th {\n",
       "        vertical-align: top;\n",
       "    }\n",
       "\n",
       "    .dataframe thead th {\n",
       "        text-align: right;\n",
       "    }\n",
       "</style>\n",
       "<table border=\"1\" class=\"dataframe\">\n",
       "  <thead>\n",
       "    <tr style=\"text-align: right;\">\n",
       "      <th></th>\n",
       "      <th></th>\n",
       "      <th>PatientID</th>\n",
       "      <th>img_max</th>\n",
       "      <th>img_mean</th>\n",
       "      <th>img_min</th>\n",
       "      <th>img_pct_window</th>\n",
       "    </tr>\n",
       "    <tr>\n",
       "      <th>BitsStored</th>\n",
       "      <th>PixelRepresentation</th>\n",
       "      <th></th>\n",
       "      <th></th>\n",
       "      <th></th>\n",
       "      <th></th>\n",
       "      <th></th>\n",
       "    </tr>\n",
       "  </thead>\n",
       "  <tbody>\n",
       "    <tr>\n",
       "      <th>8</th>\n",
       "      <th>0</th>\n",
       "      <td>26684</td>\n",
       "      <td>255</td>\n",
       "      <td>124.978564</td>\n",
       "      <td>0</td>\n",
       "      <td>0.217024</td>\n",
       "    </tr>\n",
       "  </tbody>\n",
       "</table>\n",
       "</div>"
      ],
      "text/plain": [
       "                                PatientID  img_max  ...  img_min  img_pct_window\n",
       "BitsStored PixelRepresentation                      ...                         \n",
       "8          0                        26684      255  ...        0        0.217024\n",
       "\n",
       "[1 rows x 5 columns]"
      ]
     },
     "execution_count": 57,
     "metadata": {
      "tags": []
     },
     "output_type": "execute_result"
    }
   ],
   "source": [
    "repr_flds = ['BitsStored','PixelRepresentation']\n",
    "comb.pivot_table(values=['PatientID','img_min','img_mean','img_max','img_pct_window'], index=repr_flds,\n",
    "                   aggfunc={'img_mean':'mean','img_max':'max','img_min':'min','PatientID':'count','img_pct_window':'mean'})"
   ]
  },
  {
   "cell_type": "code",
   "execution_count": 0,
   "metadata": {
    "colab": {
     "base_uri": "https://localhost:8080/",
     "height": 102
    },
    "colab_type": "code",
    "id": "n2HbW23QoTj1",
    "outputId": "f1357e08-38c2-4f61-c0c4-6e73979c9617"
   },
   "outputs": [
    {
     "data": {
      "text/plain": [
       "count          26684\n",
       "unique             1\n",
       "top       ISO_IR 100\n",
       "freq           26684\n",
       "Name: SpecificCharacterSet, dtype: object"
      ]
     },
     "execution_count": 59,
     "metadata": {
      "tags": []
     },
     "output_type": "execute_result"
    }
   ],
   "source": [
    "df_trn.SpecificCharacterSet.describe()"
   ]
  },
  {
   "cell_type": "code",
   "execution_count": 0,
   "metadata": {
    "colab": {},
    "colab_type": "code",
    "id": "aEZuxPu6i3o5"
   },
   "outputs": [],
   "source": []
  }
 ],
 "metadata": {
  "accelerator": "GPU",
  "colab": {
   "collapsed_sections": [],
   "name": "Milestone 1_Aishwarya.ipynb",
   "provenance": []
  },
  "kernelspec": {
   "display_name": "Python 3",
   "language": "python",
   "name": "python3"
  },
  "language_info": {
   "codemirror_mode": {
    "name": "ipython",
    "version": 3
   },
   "file_extension": ".py",
   "mimetype": "text/x-python",
   "name": "python",
   "nbconvert_exporter": "python",
   "pygments_lexer": "ipython3",
   "version": "3.7.3"
  }
 },
 "nbformat": 4,
 "nbformat_minor": 1
}
